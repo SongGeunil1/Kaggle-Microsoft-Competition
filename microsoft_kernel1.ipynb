{
 "cells": [
  {
   "cell_type": "markdown",
   "metadata": {
    "_uuid": "b3854c36b54da1331d0c551ce179f96a1f3ab0c0"
   },
   "source": [
    "## Microsoft Malware Prediction\n",
    "\n",
    "The goal of this competition is to predict a Windows machine’s probability of getting infected by various families of malware, based on different properties of that machine. It is really important to find out whether the computer is infected and cure it.\n",
    "\n",
    "We have a huge dataset of data, where most features are categorical. I think that correct mean encoding should be important. Also the number of columns is quite high so it could be tempting to make some automatical processing for all columns. I personally think that it is important to analyze each variable and it could help to do a better processing.\n",
    "\n",
    "In this kernel I'll do a detailed EDA, feature engineering and modelling.\n",
    "\n",
    "![](https://storage.googleapis.com/kaggle-competitions/kaggle/10683/logos/thumb76_76.png?t=2018-09-19-16-55-15)"
   ]
  },
  {
   "cell_type": "code",
   "execution_count": 1,
   "metadata": {
    "_cell_guid": "b1076dfc-b9ad-4769-8c92-a6c4dae69d19",
    "_kg_hide-input": true,
    "_uuid": "8f2839f25d086af736a60e9eeb907d3b93b6e0e5"
   },
   "outputs": [
    {
     "ename": "ModuleNotFoundError",
     "evalue": "No module named 'xgboost'",
     "output_type": "error",
     "traceback": [
      "\u001b[1;31m---------------------------------------------------------------------------\u001b[0m",
      "\u001b[1;31mModuleNotFoundError\u001b[0m                       Traceback (most recent call last)",
      "\u001b[1;32m<ipython-input-1-761b45f4de96>\u001b[0m in \u001b[0;36m<module>\u001b[1;34m\u001b[0m\n\u001b[0;32m      8\u001b[0m \u001b[0mplt\u001b[0m\u001b[1;33m.\u001b[0m\u001b[0mstyle\u001b[0m\u001b[1;33m.\u001b[0m\u001b[0muse\u001b[0m\u001b[1;33m(\u001b[0m\u001b[1;34m'ggplot'\u001b[0m\u001b[1;33m)\u001b[0m\u001b[1;33m\u001b[0m\u001b[1;33m\u001b[0m\u001b[0m\n\u001b[0;32m      9\u001b[0m \u001b[1;32mimport\u001b[0m \u001b[0mlightgbm\u001b[0m \u001b[1;32mas\u001b[0m \u001b[0mlgb\u001b[0m\u001b[1;33m\u001b[0m\u001b[1;33m\u001b[0m\u001b[0m\n\u001b[1;32m---> 10\u001b[1;33m \u001b[1;32mimport\u001b[0m \u001b[0mxgboost\u001b[0m \u001b[1;32mas\u001b[0m \u001b[0mxgb\u001b[0m\u001b[1;33m\u001b[0m\u001b[1;33m\u001b[0m\u001b[0m\n\u001b[0m\u001b[0;32m     11\u001b[0m \u001b[1;32mimport\u001b[0m \u001b[0mtime\u001b[0m\u001b[1;33m\u001b[0m\u001b[1;33m\u001b[0m\u001b[0m\n\u001b[0;32m     12\u001b[0m \u001b[1;32mimport\u001b[0m \u001b[0mdatetime\u001b[0m\u001b[1;33m\u001b[0m\u001b[1;33m\u001b[0m\u001b[0m\n",
      "\u001b[1;31mModuleNotFoundError\u001b[0m: No module named 'xgboost'"
     ]
    }
   ],
   "source": [
    "#libraries\n",
    "import numpy as np \n",
    "import pandas as pd \n",
    "import os\n",
    "import seaborn as sns \n",
    "import matplotlib.pyplot as plt\n",
    "%matplotlib inline\n",
    "plt.style.use('ggplot')\n",
    "import lightgbm as lgb\n",
    "import xgboost as xgb\n",
    "import time\n",
    "import datetime\n",
    "\n",
    "from sklearn.preprocessing import LabelEncoder\n",
    "from sklearn.model_selection import StratifiedKFold, KFold, TimeSeriesSplit\n",
    "from sklearn.metrics import mean_squared_error, roc_auc_score\n",
    "from sklearn.linear_model import LogisticRegression, LogisticRegressionCV\n",
    "import gc\n",
    "from catboost import CatBoostClassifier\n",
    "from tqdm import tqdm_notebook\n",
    "import plotly.offline as py\n",
    "py.init_notebook_mode(connected=True)\n",
    "import plotly.graph_objs as go\n",
    "import plotly.tools as tls\n",
    "\n",
    "import warnings\n",
    "warnings.filterwarnings(\"ignore\")\n",
    "\n",
    "import logging\n",
    "\n",
    "logging.basicConfig(filename='log.txt',level=logging.DEBUG, format='%(asctime)s %(message)s')\n",
    "\n",
    "pd.set_option('max_colwidth', 500)\n",
    "pd.set_option('max_columns', 500)\n",
    "pd.set_option('max_rows', 100)\n",
    "import os\n",
    "print(os.listdir(\"../input/microsoft-malware-prediction\"))\n"
   ]
  },
  {
   "cell_type": "markdown",
   "metadata": {
    "_uuid": "a88bd62cf2a3786801c774f55fe64c23d86e996c"
   },
   "source": [
    "## Loading data\n",
    "Let's try loading data in a naive way"
   ]
  },
  {
   "cell_type": "code",
   "execution_count": 2,
   "metadata": {
    "_kg_hide-input": true,
    "_uuid": "2ec62825ad4db2d713100b64da6672902fc65386"
   },
   "outputs": [],
   "source": [
    "#https://www.kaggle.com/theoviel/load-the-totality-of-the-data\n",
    "dtypes = {\n",
    "        'MachineIdentifier':                                    'category',\n",
    "        'ProductName':                                          'category',\n",
    "        'EngineVersion':                                        'category',\n",
    "        'AppVersion':                                           'category',\n",
    "        'AvSigVersion':                                         'category',\n",
    "        'IsBeta':                                               'int8',\n",
    "        'RtpStateBitfield':                                     'float16',\n",
    "        'IsSxsPassiveMode':                                     'int8',\n",
    "        'DefaultBrowsersIdentifier':                            'float16',\n",
    "        'AVProductStatesIdentifier':                            'float32',\n",
    "        'AVProductsInstalled':                                  'float16',\n",
    "        'AVProductsEnabled':                                    'float16',\n",
    "        'HasTpm':                                               'int8',\n",
    "        'CountryIdentifier':                                    'int16',\n",
    "        'CityIdentifier':                                       'float32',\n",
    "        'OrganizationIdentifier':                               'float16',\n",
    "        'GeoNameIdentifier':                                    'float16',\n",
    "        'LocaleEnglishNameIdentifier':                          'int8',\n",
    "        'Platform':                                             'category',\n",
    "        'Processor':                                            'category',\n",
    "        'OsVer':                                                'category',\n",
    "        'OsBuild':                                              'int16',\n",
    "        'OsSuite':                                              'int16',\n",
    "        'OsPlatformSubRelease':                                 'category',\n",
    "        'OsBuildLab':                                           'category',\n",
    "        'SkuEdition':                                           'category',\n",
    "        'IsProtected':                                          'float16',\n",
    "        'AutoSampleOptIn':                                      'int8',\n",
    "        'PuaMode':                                              'category',\n",
    "        'SMode':                                                'float16',\n",
    "        'IeVerIdentifier':                                      'float16',\n",
    "        'SmartScreen':                                          'category',\n",
    "        'Firewall':                                             'float16',\n",
    "        'UacLuaenable':                                         'float32',\n",
    "        'Census_MDC2FormFactor':                                'category',\n",
    "        'Census_DeviceFamily':                                  'category',\n",
    "        'Census_OEMNameIdentifier':                             'float16',\n",
    "        'Census_OEMModelIdentifier':                            'float32',\n",
    "        'Census_ProcessorCoreCount':                            'float16',\n",
    "        'Census_ProcessorManufacturerIdentifier':               'float16',\n",
    "        'Census_ProcessorModelIdentifier':                      'float16',\n",
    "        'Census_ProcessorClass':                                'category',\n",
    "        'Census_PrimaryDiskTotalCapacity':                      'float32',\n",
    "        'Census_PrimaryDiskTypeName':                           'category',\n",
    "        'Census_SystemVolumeTotalCapacity':                     'float32',\n",
    "        'Census_HasOpticalDiskDrive':                           'int8',\n",
    "        'Census_TotalPhysicalRAM':                              'float32',\n",
    "        'Census_ChassisTypeName':                               'category',\n",
    "        'Census_InternalPrimaryDiagonalDisplaySizeInInches':    'float16',\n",
    "        'Census_InternalPrimaryDisplayResolutionHorizontal':    'float16',\n",
    "        'Census_InternalPrimaryDisplayResolutionVertical':      'float16',\n",
    "        'Census_PowerPlatformRoleName':                         'category',\n",
    "        'Census_InternalBatteryType':                           'category',\n",
    "        'Census_InternalBatteryNumberOfCharges':                'float32',\n",
    "        'Census_OSVersion':                                     'category',\n",
    "        'Census_OSArchitecture':                                'category',\n",
    "        'Census_OSBranch':                                      'category',\n",
    "        'Census_OSBuildNumber':                                 'int16',\n",
    "        'Census_OSBuildRevision':                               'int32',\n",
    "        'Census_OSEdition':                                     'category',\n",
    "        'Census_OSSkuName':                                     'category',\n",
    "        'Census_OSInstallTypeName':                             'category',\n",
    "        'Census_OSInstallLanguageIdentifier':                   'float16',\n",
    "        'Census_OSUILocaleIdentifier':                          'int16',\n",
    "        'Census_OSWUAutoUpdateOptionsName':                     'category',\n",
    "        'Census_IsPortableOperatingSystem':                     'int8',\n",
    "        'Census_GenuineStateName':                              'category',\n",
    "        'Census_ActivationChannel':                             'category',\n",
    "        'Census_IsFlightingInternal':                           'float16',\n",
    "        'Census_IsFlightsDisabled':                             'float16',\n",
    "        'Census_FlightRing':                                    'category',\n",
    "        'Census_ThresholdOptIn':                                'float16',\n",
    "        'Census_FirmwareManufacturerIdentifier':                'float16',\n",
    "        'Census_FirmwareVersionIdentifier':                     'float32',\n",
    "        'Census_IsSecureBootEnabled':                           'int8',\n",
    "        'Census_IsWIMBootEnabled':                              'float16',\n",
    "        'Census_IsVirtualDevice':                               'float16',\n",
    "        'Census_IsTouchEnabled':                                'int8',\n",
    "        'Census_IsPenCapable':                                  'int8',\n",
    "        'Census_IsAlwaysOnAlwaysConnectedCapable':              'float16',\n",
    "        'Wdft_IsGamer':                                         'float16',\n",
    "        'Wdft_RegionIdentifier':                                'float16',\n",
    "        'HasDetections':                                        'int8'\n",
    "        }\n",
    "\n",
    "def reduce_mem_usage(df, verbose=True):\n",
    "    numerics = ['int16', 'int32', 'int64', 'float16', 'float32', 'float64']\n",
    "    start_mem = df.memory_usage(deep=True).sum() / 1024**2    \n",
    "    for col in df.columns:\n",
    "        col_type = df[col].dtypes\n",
    "        if col_type in numerics:\n",
    "            c_min = df[col].min()\n",
    "            c_max = df[col].max()\n",
    "            if str(col_type)[:3] == 'int':\n",
    "                if c_min > np.iinfo(np.int8).min and c_max < np.iinfo(np.int8).max:\n",
    "                    df[col] = df[col].astype(np.int8)\n",
    "                elif c_min > np.iinfo(np.int16).min and c_max < np.iinfo(np.int16).max:\n",
    "                    df[col] = df[col].astype(np.int16)\n",
    "                elif c_min > np.iinfo(np.int32).min and c_max < np.iinfo(np.int32).max:\n",
    "                    df[col] = df[col].astype(np.int32)\n",
    "                elif c_min > np.iinfo(np.int64).min and c_max < np.iinfo(np.int64).max:\n",
    "                    df[col] = df[col].astype(np.int64)  \n",
    "            else:\n",
    "                if c_min > np.finfo(np.float16).min and c_max < np.finfo(np.float16).max:\n",
    "                    df[col] = df[col].astype(np.float16)\n",
    "                elif c_min > np.finfo(np.float32).min and c_max < np.finfo(np.float32).max:\n",
    "                    df[col] = df[col].astype(np.float32)\n",
    "                else:\n",
    "                    df[col] = df[col].astype(np.float64)    \n",
    "    end_mem = df.memory_usage(deep=True).sum() / 1024**2\n",
    "    if verbose: print('Mem. usage decreased to {:5.2f} Mb ({:.1f}% reduction)'.format(end_mem, 100 * (start_mem - end_mem) / start_mem))\n",
    "    return df"
   ]
  },
  {
   "cell_type": "code",
   "execution_count": 3,
   "metadata": {
    "_uuid": "a1ff40231baaa83b94b6454d7f29f1a44b3c84c7"
   },
   "outputs": [],
   "source": [
    "numerics = ['int8', 'int16', 'int32', 'int64', 'float16', 'float32', 'float64']\n",
    "numerical_columns = [c for c,v in dtypes.items() if v in numerics]\n",
    "categorical_columns = [c for c,v in dtypes.items() if v not in numerics]"
   ]
  },
  {
   "cell_type": "code",
   "execution_count": 4,
   "metadata": {
    "_uuid": "368a8a0fd570819d155017e50d4e93c5c416dabe"
   },
   "outputs": [
    {
     "name": "stdout",
     "output_type": "stream",
     "text": [
      "Wall time: 3min 55s\n"
     ]
    }
   ],
   "source": [
    "%%time\n",
    "os.chdir(\"C:\\\\Users\\\\PC\\\\Documents\\\\마이크로소프트\")\n",
    "train = pd.read_csv('train.csv', dtype=dtypes)"
   ]
  },
  {
   "cell_type": "code",
   "execution_count": 5,
   "metadata": {
    "_uuid": "6b2a453151c8071678cae96e1bc9bf003c410287"
   },
   "outputs": [
    {
     "name": "stdout",
     "output_type": "stream",
     "text": [
      "Mem. usage decreased to 2363.03 Mb (0.0% reduction)\n"
     ]
    }
   ],
   "source": [
    "train = reduce_mem_usage(train)"
   ]
  },
  {
   "cell_type": "code",
   "execution_count": 93,
   "metadata": {},
   "outputs": [],
   "source": [
    "del dtypes['HasDetections']"
   ]
  },
  {
   "cell_type": "code",
   "execution_count": 91,
   "metadata": {
    "_uuid": "d8006bb3c02abd0ce9e3fcf2e3243965854b81ab",
    "scrolled": true
   },
   "outputs": [
    {
     "data": {
      "text/html": [
       "<div>\n",
       "<style scoped>\n",
       "    .dataframe tbody tr th:only-of-type {\n",
       "        vertical-align: middle;\n",
       "    }\n",
       "\n",
       "    .dataframe tbody tr th {\n",
       "        vertical-align: top;\n",
       "    }\n",
       "\n",
       "    .dataframe thead th {\n",
       "        text-align: right;\n",
       "    }\n",
       "</style>\n",
       "<table border=\"1\" class=\"dataframe\">\n",
       "  <thead>\n",
       "    <tr style=\"text-align: right;\">\n",
       "      <th></th>\n",
       "      <th>Feature</th>\n",
       "      <th>Unique_values</th>\n",
       "      <th>Percentage of missing values</th>\n",
       "      <th>Percentage of values in the biggest category</th>\n",
       "      <th>type</th>\n",
       "    </tr>\n",
       "  </thead>\n",
       "  <tbody>\n",
       "    <tr>\n",
       "      <th>47</th>\n",
       "      <td>Census_IsFlightingInternal</td>\n",
       "      <td>2</td>\n",
       "      <td>83.044030</td>\n",
       "      <td>83.044030</td>\n",
       "      <td>float16</td>\n",
       "    </tr>\n",
       "    <tr>\n",
       "      <th>33</th>\n",
       "      <td>Census_InternalBatteryType</td>\n",
       "      <td>78</td>\n",
       "      <td>71.046809</td>\n",
       "      <td>71.046809</td>\n",
       "      <td>category</td>\n",
       "    </tr>\n",
       "    <tr>\n",
       "      <th>48</th>\n",
       "      <td>Census_ThresholdOptIn</td>\n",
       "      <td>2</td>\n",
       "      <td>63.524472</td>\n",
       "      <td>63.524472</td>\n",
       "      <td>float16</td>\n",
       "    </tr>\n",
       "    <tr>\n",
       "      <th>52</th>\n",
       "      <td>Census_IsWIMBootEnabled</td>\n",
       "      <td>2</td>\n",
       "      <td>63.439038</td>\n",
       "      <td>63.439038</td>\n",
       "      <td>float16</td>\n",
       "    </tr>\n",
       "    <tr>\n",
       "      <th>17</th>\n",
       "      <td>SmartScreen</td>\n",
       "      <td>21</td>\n",
       "      <td>35.610795</td>\n",
       "      <td>48.379658</td>\n",
       "      <td>category</td>\n",
       "    </tr>\n",
       "    <tr>\n",
       "      <th>8</th>\n",
       "      <td>OrganizationIdentifier</td>\n",
       "      <td>49</td>\n",
       "      <td>30.841487</td>\n",
       "      <td>47.037662</td>\n",
       "      <td>float16</td>\n",
       "    </tr>\n",
       "    <tr>\n",
       "      <th>7</th>\n",
       "      <td>CityIdentifier</td>\n",
       "      <td>107366</td>\n",
       "      <td>3.647477</td>\n",
       "      <td>3.647477</td>\n",
       "      <td>float32</td>\n",
       "    </tr>\n",
       "    <tr>\n",
       "      <th>55</th>\n",
       "      <td>Wdft_RegionIdentifier</td>\n",
       "      <td>15</td>\n",
       "      <td>3.401352</td>\n",
       "      <td>20.177195</td>\n",
       "      <td>float16</td>\n",
       "    </tr>\n",
       "    <tr>\n",
       "      <th>54</th>\n",
       "      <td>Wdft_IsGamer</td>\n",
       "      <td>2</td>\n",
       "      <td>3.401352</td>\n",
       "      <td>69.205344</td>\n",
       "      <td>float16</td>\n",
       "    </tr>\n",
       "    <tr>\n",
       "      <th>34</th>\n",
       "      <td>Census_InternalBatteryNumberOfCharges</td>\n",
       "      <td>41087</td>\n",
       "      <td>3.012448</td>\n",
       "      <td>56.643094</td>\n",
       "      <td>float32</td>\n",
       "    </tr>\n",
       "    <tr>\n",
       "      <th>49</th>\n",
       "      <td>Census_FirmwareManufacturerIdentifier</td>\n",
       "      <td>712</td>\n",
       "      <td>2.054109</td>\n",
       "      <td>30.253692</td>\n",
       "      <td>float16</td>\n",
       "    </tr>\n",
       "    <tr>\n",
       "      <th>50</th>\n",
       "      <td>Census_FirmwareVersionIdentifier</td>\n",
       "      <td>50494</td>\n",
       "      <td>1.794915</td>\n",
       "      <td>1.794915</td>\n",
       "      <td>float32</td>\n",
       "    </tr>\n",
       "    <tr>\n",
       "      <th>20</th>\n",
       "      <td>Census_OEMModelIdentifier</td>\n",
       "      <td>175365</td>\n",
       "      <td>1.145919</td>\n",
       "      <td>3.416271</td>\n",
       "      <td>float32</td>\n",
       "    </tr>\n",
       "    <tr>\n",
       "      <th>19</th>\n",
       "      <td>Census_OEMNameIdentifier</td>\n",
       "      <td>2564</td>\n",
       "      <td>1.070203</td>\n",
       "      <td>14.428946</td>\n",
       "      <td>float16</td>\n",
       "    </tr>\n",
       "    <tr>\n",
       "      <th>27</th>\n",
       "      <td>Census_TotalPhysicalRAM</td>\n",
       "      <td>3446</td>\n",
       "      <td>0.902686</td>\n",
       "      <td>45.894971</td>\n",
       "      <td>float32</td>\n",
       "    </tr>\n",
       "    <tr>\n",
       "      <th>42</th>\n",
       "      <td>Census_OSInstallLanguageIdentifier</td>\n",
       "      <td>39</td>\n",
       "      <td>0.673475</td>\n",
       "      <td>35.636026</td>\n",
       "      <td>float16</td>\n",
       "    </tr>\n",
       "    <tr>\n",
       "      <th>16</th>\n",
       "      <td>IeVerIdentifier</td>\n",
       "      <td>303</td>\n",
       "      <td>0.660137</td>\n",
       "      <td>43.556010</td>\n",
       "      <td>float16</td>\n",
       "    </tr>\n",
       "    <tr>\n",
       "      <th>24</th>\n",
       "      <td>Census_PrimaryDiskTotalCapacity</td>\n",
       "      <td>5735</td>\n",
       "      <td>0.594251</td>\n",
       "      <td>31.850422</td>\n",
       "      <td>float32</td>\n",
       "    </tr>\n",
       "    <tr>\n",
       "      <th>26</th>\n",
       "      <td>Census_SystemVolumeTotalCapacity</td>\n",
       "      <td>536848</td>\n",
       "      <td>0.594094</td>\n",
       "      <td>0.594094</td>\n",
       "      <td>float32</td>\n",
       "    </tr>\n",
       "    <tr>\n",
       "      <th>29</th>\n",
       "      <td>Census_InternalPrimaryDiagonalDisplaySizeInInches</td>\n",
       "      <td>785</td>\n",
       "      <td>0.528320</td>\n",
       "      <td>34.158346</td>\n",
       "      <td>float16</td>\n",
       "    </tr>\n",
       "    <tr>\n",
       "      <th>30</th>\n",
       "      <td>Census_InternalPrimaryDisplayResolutionHorizontal</td>\n",
       "      <td>2050</td>\n",
       "      <td>0.526661</td>\n",
       "      <td>50.608895</td>\n",
       "      <td>float16</td>\n",
       "    </tr>\n",
       "    <tr>\n",
       "      <th>31</th>\n",
       "      <td>Census_InternalPrimaryDisplayResolutionVertical</td>\n",
       "      <td>1552</td>\n",
       "      <td>0.526661</td>\n",
       "      <td>55.748814</td>\n",
       "      <td>float16</td>\n",
       "    </tr>\n",
       "    <tr>\n",
       "      <th>23</th>\n",
       "      <td>Census_ProcessorModelIdentifier</td>\n",
       "      <td>2583</td>\n",
       "      <td>0.463410</td>\n",
       "      <td>3.242555</td>\n",
       "      <td>float16</td>\n",
       "    </tr>\n",
       "    <tr>\n",
       "      <th>22</th>\n",
       "      <td>Census_ProcessorManufacturerIdentifier</td>\n",
       "      <td>7</td>\n",
       "      <td>0.463073</td>\n",
       "      <td>87.870122</td>\n",
       "      <td>float16</td>\n",
       "    </tr>\n",
       "    <tr>\n",
       "      <th>21</th>\n",
       "      <td>Census_ProcessorCoreCount</td>\n",
       "      <td>45</td>\n",
       "      <td>0.462995</td>\n",
       "      <td>60.866484</td>\n",
       "      <td>float16</td>\n",
       "    </tr>\n",
       "    <tr>\n",
       "      <th>5</th>\n",
       "      <td>AVProductsInstalled</td>\n",
       "      <td>8</td>\n",
       "      <td>0.405998</td>\n",
       "      <td>69.594853</td>\n",
       "      <td>float16</td>\n",
       "    </tr>\n",
       "    <tr>\n",
       "      <th>4</th>\n",
       "      <td>AVProductStatesIdentifier</td>\n",
       "      <td>28970</td>\n",
       "      <td>0.405998</td>\n",
       "      <td>65.286960</td>\n",
       "      <td>float32</td>\n",
       "    </tr>\n",
       "    <tr>\n",
       "      <th>25</th>\n",
       "      <td>Census_PrimaryDiskTypeName</td>\n",
       "      <td>4</td>\n",
       "      <td>0.143967</td>\n",
       "      <td>65.087878</td>\n",
       "      <td>category</td>\n",
       "    </tr>\n",
       "    <tr>\n",
       "      <th>28</th>\n",
       "      <td>Census_ChassisTypeName</td>\n",
       "      <td>52</td>\n",
       "      <td>0.006983</td>\n",
       "      <td>58.833402</td>\n",
       "      <td>category</td>\n",
       "    </tr>\n",
       "    <tr>\n",
       "      <th>9</th>\n",
       "      <td>GeoNameIdentifier</td>\n",
       "      <td>292</td>\n",
       "      <td>0.002387</td>\n",
       "      <td>17.171237</td>\n",
       "      <td>float16</td>\n",
       "    </tr>\n",
       "    <tr>\n",
       "      <th>32</th>\n",
       "      <td>Census_PowerPlatformRoleName</td>\n",
       "      <td>10</td>\n",
       "      <td>0.000616</td>\n",
       "      <td>69.303590</td>\n",
       "      <td>category</td>\n",
       "    </tr>\n",
       "    <tr>\n",
       "      <th>14</th>\n",
       "      <td>OsBuildLab</td>\n",
       "      <td>663</td>\n",
       "      <td>0.000235</td>\n",
       "      <td>41.004382</td>\n",
       "      <td>category</td>\n",
       "    </tr>\n",
       "    <tr>\n",
       "      <th>46</th>\n",
       "      <td>Census_ActivationChannel</td>\n",
       "      <td>6</td>\n",
       "      <td>0.000000</td>\n",
       "      <td>52.991067</td>\n",
       "      <td>category</td>\n",
       "    </tr>\n",
       "    <tr>\n",
       "      <th>40</th>\n",
       "      <td>Census_OSSkuName</td>\n",
       "      <td>30</td>\n",
       "      <td>0.000000</td>\n",
       "      <td>38.893410</td>\n",
       "      <td>category</td>\n",
       "    </tr>\n",
       "    <tr>\n",
       "      <th>51</th>\n",
       "      <td>Census_IsSecureBootEnabled</td>\n",
       "      <td>2</td>\n",
       "      <td>0.000000</td>\n",
       "      <td>51.397710</td>\n",
       "      <td>int8</td>\n",
       "    </tr>\n",
       "    <tr>\n",
       "      <th>45</th>\n",
       "      <td>Census_GenuineStateName</td>\n",
       "      <td>5</td>\n",
       "      <td>0.000000</td>\n",
       "      <td>88.299187</td>\n",
       "      <td>category</td>\n",
       "    </tr>\n",
       "    <tr>\n",
       "      <th>44</th>\n",
       "      <td>Census_OSWUAutoUpdateOptionsName</td>\n",
       "      <td>6</td>\n",
       "      <td>0.000000</td>\n",
       "      <td>44.325557</td>\n",
       "      <td>category</td>\n",
       "    </tr>\n",
       "    <tr>\n",
       "      <th>43</th>\n",
       "      <td>Census_OSUILocaleIdentifier</td>\n",
       "      <td>147</td>\n",
       "      <td>0.000000</td>\n",
       "      <td>35.541445</td>\n",
       "      <td>int16</td>\n",
       "    </tr>\n",
       "    <tr>\n",
       "      <th>53</th>\n",
       "      <td>Census_IsTouchEnabled</td>\n",
       "      <td>2</td>\n",
       "      <td>0.000000</td>\n",
       "      <td>87.445686</td>\n",
       "      <td>int8</td>\n",
       "    </tr>\n",
       "    <tr>\n",
       "      <th>41</th>\n",
       "      <td>Census_OSInstallTypeName</td>\n",
       "      <td>9</td>\n",
       "      <td>0.000000</td>\n",
       "      <td>29.233223</td>\n",
       "      <td>category</td>\n",
       "    </tr>\n",
       "    <tr>\n",
       "      <th>0</th>\n",
       "      <td>MachineIdentifier</td>\n",
       "      <td>8921483</td>\n",
       "      <td>0.000000</td>\n",
       "      <td>0.000011</td>\n",
       "      <td>category</td>\n",
       "    </tr>\n",
       "    <tr>\n",
       "      <th>39</th>\n",
       "      <td>Census_OSEdition</td>\n",
       "      <td>33</td>\n",
       "      <td>0.000000</td>\n",
       "      <td>38.894778</td>\n",
       "      <td>category</td>\n",
       "    </tr>\n",
       "    <tr>\n",
       "      <th>38</th>\n",
       "      <td>Census_OSBuildRevision</td>\n",
       "      <td>285</td>\n",
       "      <td>0.000000</td>\n",
       "      <td>15.845269</td>\n",
       "      <td>int32</td>\n",
       "    </tr>\n",
       "    <tr>\n",
       "      <th>37</th>\n",
       "      <td>Census_OSBuildNumber</td>\n",
       "      <td>165</td>\n",
       "      <td>0.000000</td>\n",
       "      <td>44.935141</td>\n",
       "      <td>int16</td>\n",
       "    </tr>\n",
       "    <tr>\n",
       "      <th>36</th>\n",
       "      <td>Census_OSBranch</td>\n",
       "      <td>32</td>\n",
       "      <td>0.000000</td>\n",
       "      <td>44.938246</td>\n",
       "      <td>category</td>\n",
       "    </tr>\n",
       "    <tr>\n",
       "      <th>35</th>\n",
       "      <td>Census_OSVersion</td>\n",
       "      <td>469</td>\n",
       "      <td>0.000000</td>\n",
       "      <td>15.845202</td>\n",
       "      <td>category</td>\n",
       "    </tr>\n",
       "    <tr>\n",
       "      <th>1</th>\n",
       "      <td>EngineVersion</td>\n",
       "      <td>70</td>\n",
       "      <td>0.000000</td>\n",
       "      <td>43.098967</td>\n",
       "      <td>category</td>\n",
       "    </tr>\n",
       "    <tr>\n",
       "      <th>18</th>\n",
       "      <td>Census_MDC2FormFactor</td>\n",
       "      <td>13</td>\n",
       "      <td>0.000000</td>\n",
       "      <td>64.152103</td>\n",
       "      <td>category</td>\n",
       "    </tr>\n",
       "    <tr>\n",
       "      <th>15</th>\n",
       "      <td>SkuEdition</td>\n",
       "      <td>8</td>\n",
       "      <td>0.000000</td>\n",
       "      <td>61.809690</td>\n",
       "      <td>category</td>\n",
       "    </tr>\n",
       "    <tr>\n",
       "      <th>13</th>\n",
       "      <td>OsPlatformSubRelease</td>\n",
       "      <td>9</td>\n",
       "      <td>0.000000</td>\n",
       "      <td>43.888735</td>\n",
       "      <td>category</td>\n",
       "    </tr>\n",
       "    <tr>\n",
       "      <th>12</th>\n",
       "      <td>OsSuite</td>\n",
       "      <td>14</td>\n",
       "      <td>0.000000</td>\n",
       "      <td>62.328886</td>\n",
       "      <td>int16</td>\n",
       "    </tr>\n",
       "    <tr>\n",
       "      <th>11</th>\n",
       "      <td>OsBuild</td>\n",
       "      <td>76</td>\n",
       "      <td>0.000000</td>\n",
       "      <td>43.888679</td>\n",
       "      <td>int16</td>\n",
       "    </tr>\n",
       "    <tr>\n",
       "      <th>10</th>\n",
       "      <td>LocaleEnglishNameIdentifier</td>\n",
       "      <td>252</td>\n",
       "      <td>0.000000</td>\n",
       "      <td>23.477991</td>\n",
       "      <td>int8</td>\n",
       "    </tr>\n",
       "    <tr>\n",
       "      <th>6</th>\n",
       "      <td>CountryIdentifier</td>\n",
       "      <td>222</td>\n",
       "      <td>0.000000</td>\n",
       "      <td>4.451861</td>\n",
       "      <td>int16</td>\n",
       "    </tr>\n",
       "    <tr>\n",
       "      <th>3</th>\n",
       "      <td>AvSigVersion</td>\n",
       "      <td>8531</td>\n",
       "      <td>0.000000</td>\n",
       "      <td>1.146861</td>\n",
       "      <td>category</td>\n",
       "    </tr>\n",
       "    <tr>\n",
       "      <th>2</th>\n",
       "      <td>AppVersion</td>\n",
       "      <td>110</td>\n",
       "      <td>0.000000</td>\n",
       "      <td>57.605042</td>\n",
       "      <td>category</td>\n",
       "    </tr>\n",
       "    <tr>\n",
       "      <th>56</th>\n",
       "      <td>HasDetections</td>\n",
       "      <td>2</td>\n",
       "      <td>0.000000</td>\n",
       "      <td>50.020731</td>\n",
       "      <td>int8</td>\n",
       "    </tr>\n",
       "  </tbody>\n",
       "</table>\n",
       "</div>"
      ],
      "text/plain": [
       "                                              Feature  Unique_values  \\\n",
       "47                         Census_IsFlightingInternal              2   \n",
       "33                         Census_InternalBatteryType             78   \n",
       "48                              Census_ThresholdOptIn              2   \n",
       "52                            Census_IsWIMBootEnabled              2   \n",
       "17                                        SmartScreen             21   \n",
       "8                              OrganizationIdentifier             49   \n",
       "7                                      CityIdentifier         107366   \n",
       "55                              Wdft_RegionIdentifier             15   \n",
       "54                                       Wdft_IsGamer              2   \n",
       "34              Census_InternalBatteryNumberOfCharges          41087   \n",
       "49              Census_FirmwareManufacturerIdentifier            712   \n",
       "50                   Census_FirmwareVersionIdentifier          50494   \n",
       "20                          Census_OEMModelIdentifier         175365   \n",
       "19                           Census_OEMNameIdentifier           2564   \n",
       "27                            Census_TotalPhysicalRAM           3446   \n",
       "42                 Census_OSInstallLanguageIdentifier             39   \n",
       "16                                    IeVerIdentifier            303   \n",
       "24                    Census_PrimaryDiskTotalCapacity           5735   \n",
       "26                   Census_SystemVolumeTotalCapacity         536848   \n",
       "29  Census_InternalPrimaryDiagonalDisplaySizeInInches            785   \n",
       "30  Census_InternalPrimaryDisplayResolutionHorizontal           2050   \n",
       "31    Census_InternalPrimaryDisplayResolutionVertical           1552   \n",
       "23                    Census_ProcessorModelIdentifier           2583   \n",
       "22             Census_ProcessorManufacturerIdentifier              7   \n",
       "21                          Census_ProcessorCoreCount             45   \n",
       "5                                 AVProductsInstalled              8   \n",
       "4                           AVProductStatesIdentifier          28970   \n",
       "25                         Census_PrimaryDiskTypeName              4   \n",
       "28                             Census_ChassisTypeName             52   \n",
       "9                                   GeoNameIdentifier            292   \n",
       "32                       Census_PowerPlatformRoleName             10   \n",
       "14                                         OsBuildLab            663   \n",
       "46                           Census_ActivationChannel              6   \n",
       "40                                   Census_OSSkuName             30   \n",
       "51                         Census_IsSecureBootEnabled              2   \n",
       "45                            Census_GenuineStateName              5   \n",
       "44                   Census_OSWUAutoUpdateOptionsName              6   \n",
       "43                        Census_OSUILocaleIdentifier            147   \n",
       "53                              Census_IsTouchEnabled              2   \n",
       "41                           Census_OSInstallTypeName              9   \n",
       "0                                   MachineIdentifier        8921483   \n",
       "39                                   Census_OSEdition             33   \n",
       "38                             Census_OSBuildRevision            285   \n",
       "37                               Census_OSBuildNumber            165   \n",
       "36                                    Census_OSBranch             32   \n",
       "35                                   Census_OSVersion            469   \n",
       "1                                       EngineVersion             70   \n",
       "18                              Census_MDC2FormFactor             13   \n",
       "15                                         SkuEdition              8   \n",
       "13                               OsPlatformSubRelease              9   \n",
       "12                                            OsSuite             14   \n",
       "11                                            OsBuild             76   \n",
       "10                        LocaleEnglishNameIdentifier            252   \n",
       "6                                   CountryIdentifier            222   \n",
       "3                                        AvSigVersion           8531   \n",
       "2                                          AppVersion            110   \n",
       "56                                      HasDetections              2   \n",
       "\n",
       "    Percentage of missing values  \\\n",
       "47                     83.044030   \n",
       "33                     71.046809   \n",
       "48                     63.524472   \n",
       "52                     63.439038   \n",
       "17                     35.610795   \n",
       "8                      30.841487   \n",
       "7                       3.647477   \n",
       "55                      3.401352   \n",
       "54                      3.401352   \n",
       "34                      3.012448   \n",
       "49                      2.054109   \n",
       "50                      1.794915   \n",
       "20                      1.145919   \n",
       "19                      1.070203   \n",
       "27                      0.902686   \n",
       "42                      0.673475   \n",
       "16                      0.660137   \n",
       "24                      0.594251   \n",
       "26                      0.594094   \n",
       "29                      0.528320   \n",
       "30                      0.526661   \n",
       "31                      0.526661   \n",
       "23                      0.463410   \n",
       "22                      0.463073   \n",
       "21                      0.462995   \n",
       "5                       0.405998   \n",
       "4                       0.405998   \n",
       "25                      0.143967   \n",
       "28                      0.006983   \n",
       "9                       0.002387   \n",
       "32                      0.000616   \n",
       "14                      0.000235   \n",
       "46                      0.000000   \n",
       "40                      0.000000   \n",
       "51                      0.000000   \n",
       "45                      0.000000   \n",
       "44                      0.000000   \n",
       "43                      0.000000   \n",
       "53                      0.000000   \n",
       "41                      0.000000   \n",
       "0                       0.000000   \n",
       "39                      0.000000   \n",
       "38                      0.000000   \n",
       "37                      0.000000   \n",
       "36                      0.000000   \n",
       "35                      0.000000   \n",
       "1                       0.000000   \n",
       "18                      0.000000   \n",
       "15                      0.000000   \n",
       "13                      0.000000   \n",
       "12                      0.000000   \n",
       "11                      0.000000   \n",
       "10                      0.000000   \n",
       "6                       0.000000   \n",
       "3                       0.000000   \n",
       "2                       0.000000   \n",
       "56                      0.000000   \n",
       "\n",
       "    Percentage of values in the biggest category      type  \n",
       "47                                     83.044030   float16  \n",
       "33                                     71.046809  category  \n",
       "48                                     63.524472   float16  \n",
       "52                                     63.439038   float16  \n",
       "17                                     48.379658  category  \n",
       "8                                      47.037662   float16  \n",
       "7                                       3.647477   float32  \n",
       "55                                     20.177195   float16  \n",
       "54                                     69.205344   float16  \n",
       "34                                     56.643094   float32  \n",
       "49                                     30.253692   float16  \n",
       "50                                      1.794915   float32  \n",
       "20                                      3.416271   float32  \n",
       "19                                     14.428946   float16  \n",
       "27                                     45.894971   float32  \n",
       "42                                     35.636026   float16  \n",
       "16                                     43.556010   float16  \n",
       "24                                     31.850422   float32  \n",
       "26                                      0.594094   float32  \n",
       "29                                     34.158346   float16  \n",
       "30                                     50.608895   float16  \n",
       "31                                     55.748814   float16  \n",
       "23                                      3.242555   float16  \n",
       "22                                     87.870122   float16  \n",
       "21                                     60.866484   float16  \n",
       "5                                      69.594853   float16  \n",
       "4                                      65.286960   float32  \n",
       "25                                     65.087878  category  \n",
       "28                                     58.833402  category  \n",
       "9                                      17.171237   float16  \n",
       "32                                     69.303590  category  \n",
       "14                                     41.004382  category  \n",
       "46                                     52.991067  category  \n",
       "40                                     38.893410  category  \n",
       "51                                     51.397710      int8  \n",
       "45                                     88.299187  category  \n",
       "44                                     44.325557  category  \n",
       "43                                     35.541445     int16  \n",
       "53                                     87.445686      int8  \n",
       "41                                     29.233223  category  \n",
       "0                                       0.000011  category  \n",
       "39                                     38.894778  category  \n",
       "38                                     15.845269     int32  \n",
       "37                                     44.935141     int16  \n",
       "36                                     44.938246  category  \n",
       "35                                     15.845202  category  \n",
       "1                                      43.098967  category  \n",
       "18                                     64.152103  category  \n",
       "15                                     61.809690  category  \n",
       "13                                     43.888735  category  \n",
       "12                                     62.328886     int16  \n",
       "11                                     43.888679     int16  \n",
       "10                                     23.477991      int8  \n",
       "6                                       4.451861     int16  \n",
       "3                                       1.146861  category  \n",
       "2                                      57.605042  category  \n",
       "56                                     50.020731      int8  "
      ]
     },
     "execution_count": 91,
     "metadata": {},
     "output_type": "execute_result"
    }
   ],
   "source": [
    "stats = []\n",
    "for col in train.columns:\n",
    "    stats.append((col, train[col].nunique(), train[col].isnull().sum() * 100 / train.shape[0], train[col].value_counts(normalize=True, dropna=False).values[0] * 100, train[col].dtype))\n",
    "\n",
    "stats_df = pd.DataFrame(stats, columns=['Feature', 'Unique_values', 'Percentage of missing values', 'Percentage of values in the biggest category', 'type'])\n",
    "stats_df.sort_values('Percentage of missing values', ascending=False)"
   ]
  },
  {
   "cell_type": "markdown",
   "metadata": {
    "_uuid": "6f4e7cdd12897e096859d6f20fec4a367f7fd97b"
   },
   "source": [
    "We can see several interesting things here:\n",
    "* PuaMode and Census_ProcessorClass have 99%+ missing values, which means that these columns are useless and should be dropped;\n",
    "* In DefaultBrowsersIdentifier column 95% values belong to one category, so I think this columns is also useless;\n",
    "* Census_IsFlightingInternal is strange, but maybe analysis of it will make sense;\n",
    "* There are 26 columns in total in which one category contains 90% values. I think that these imbalanced columns should be removed from the dataset;\n",
    "* One more important point is that there are many columns which are considered to be numerical (from this kernel: #https://www.kaggle.com/theoviel/load-the-totality-of-the-data), but I think they are categorical - like CityIdentifier. We'll see more in EDA below;\n",
    "\n",
    "\n",
    "I see that all columns except Census_SystemVolumeTotalCapacity are categorical. \n",
    "Also there are 3 columns, where most of the values are missing. Let's drop them."
   ]
  },
  {
   "cell_type": "code",
   "execution_count": 7,
   "metadata": {
    "_uuid": "123ae19091290a1eb21fc69684e41965a73b61eb"
   },
   "outputs": [],
   "source": [
    "good_cols = list(train.columns)\n",
    "for col in train.columns:\n",
    "    rate = train[col].value_counts(normalize=True, dropna=False).values[0]\n",
    "    if rate > 0.9:\n",
    "        good_cols.remove(col)"
   ]
  },
  {
   "cell_type": "code",
   "execution_count": 8,
   "metadata": {
    "_uuid": "3fa36c3a504e69c04b05ce3a36541a788da71de8"
   },
   "outputs": [],
   "source": [
    "train = train[good_cols]"
   ]
  },
  {
   "cell_type": "markdown",
   "metadata": {
    "_uuid": "70c483008b3f6048f106a055cd6791c22966ca6c"
   },
   "source": [
    "Now we can read test data."
   ]
  },
  {
   "cell_type": "code",
   "execution_count": 10,
   "metadata": {
    "_uuid": "7efe89016744a09538f54f9fed2a540a901b8ad5"
   },
   "outputs": [
    {
     "name": "stdout",
     "output_type": "stream",
     "text": [
      "Mem. usage decreased to 1826.49 Mb (0.0% reduction)\n"
     ]
    }
   ],
   "source": [
    "test_dtypes = {k: v for k, v in dtypes.items() if k in good_cols}\n",
    "test = pd.read_csv('test.csv', dtype=test_dtypes, usecols=good_cols[:-1])\n",
    "test.loc[6529507, 'OsBuildLab'] = '17134.1.amd64fre.rs4_release.180410-1804'\n",
    "test = reduce_mem_usage(test)"
   ]
  },
  {
   "cell_type": "markdown",
   "metadata": {
    "_uuid": "25456a3d746825b4368933c4f1dcfcc45b9ec92f"
   },
   "source": [
    "## Data exploration"
   ]
  },
  {
   "cell_type": "code",
   "execution_count": 11,
   "metadata": {
    "_uuid": "dd70eace03447d88984bbb2512015ad4c5e83702",
    "scrolled": true
   },
   "outputs": [
    {
     "data": {
      "text/html": [
       "<div>\n",
       "<style scoped>\n",
       "    .dataframe tbody tr th:only-of-type {\n",
       "        vertical-align: middle;\n",
       "    }\n",
       "\n",
       "    .dataframe tbody tr th {\n",
       "        vertical-align: top;\n",
       "    }\n",
       "\n",
       "    .dataframe thead th {\n",
       "        text-align: right;\n",
       "    }\n",
       "</style>\n",
       "<table border=\"1\" class=\"dataframe\">\n",
       "  <thead>\n",
       "    <tr style=\"text-align: right;\">\n",
       "      <th></th>\n",
       "      <th>MachineIdentifier</th>\n",
       "      <th>EngineVersion</th>\n",
       "      <th>AppVersion</th>\n",
       "      <th>AvSigVersion</th>\n",
       "      <th>AVProductStatesIdentifier</th>\n",
       "      <th>AVProductsInstalled</th>\n",
       "      <th>CountryIdentifier</th>\n",
       "      <th>CityIdentifier</th>\n",
       "      <th>OrganizationIdentifier</th>\n",
       "      <th>GeoNameIdentifier</th>\n",
       "      <th>...</th>\n",
       "      <th>Census_IsFlightingInternal</th>\n",
       "      <th>Census_ThresholdOptIn</th>\n",
       "      <th>Census_FirmwareManufacturerIdentifier</th>\n",
       "      <th>Census_FirmwareVersionIdentifier</th>\n",
       "      <th>Census_IsSecureBootEnabled</th>\n",
       "      <th>Census_IsWIMBootEnabled</th>\n",
       "      <th>Census_IsTouchEnabled</th>\n",
       "      <th>Wdft_IsGamer</th>\n",
       "      <th>Wdft_RegionIdentifier</th>\n",
       "      <th>HasDetections</th>\n",
       "    </tr>\n",
       "  </thead>\n",
       "  <tbody>\n",
       "    <tr>\n",
       "      <th>0</th>\n",
       "      <td>0000028988387b115f69f31a3bf04f09</td>\n",
       "      <td>1.1.15100.1</td>\n",
       "      <td>4.18.1807.18075</td>\n",
       "      <td>1.273.1735.0</td>\n",
       "      <td>53447.0</td>\n",
       "      <td>1.0</td>\n",
       "      <td>29</td>\n",
       "      <td>128035.0</td>\n",
       "      <td>18.0</td>\n",
       "      <td>35.0</td>\n",
       "      <td>...</td>\n",
       "      <td>NaN</td>\n",
       "      <td>NaN</td>\n",
       "      <td>628.0</td>\n",
       "      <td>36144.0</td>\n",
       "      <td>0</td>\n",
       "      <td>NaN</td>\n",
       "      <td>0</td>\n",
       "      <td>0.0</td>\n",
       "      <td>10.0</td>\n",
       "      <td>0</td>\n",
       "    </tr>\n",
       "    <tr>\n",
       "      <th>1</th>\n",
       "      <td>000007535c3f730efa9ea0b7ef1bd645</td>\n",
       "      <td>1.1.14600.4</td>\n",
       "      <td>4.13.17134.1</td>\n",
       "      <td>1.263.48.0</td>\n",
       "      <td>53447.0</td>\n",
       "      <td>1.0</td>\n",
       "      <td>93</td>\n",
       "      <td>1482.0</td>\n",
       "      <td>18.0</td>\n",
       "      <td>119.0</td>\n",
       "      <td>...</td>\n",
       "      <td>NaN</td>\n",
       "      <td>NaN</td>\n",
       "      <td>628.0</td>\n",
       "      <td>57858.0</td>\n",
       "      <td>0</td>\n",
       "      <td>NaN</td>\n",
       "      <td>0</td>\n",
       "      <td>0.0</td>\n",
       "      <td>8.0</td>\n",
       "      <td>0</td>\n",
       "    </tr>\n",
       "    <tr>\n",
       "      <th>2</th>\n",
       "      <td>000007905a28d863f6d0d597892cd692</td>\n",
       "      <td>1.1.15100.1</td>\n",
       "      <td>4.18.1807.18075</td>\n",
       "      <td>1.273.1341.0</td>\n",
       "      <td>53447.0</td>\n",
       "      <td>1.0</td>\n",
       "      <td>86</td>\n",
       "      <td>153579.0</td>\n",
       "      <td>18.0</td>\n",
       "      <td>64.0</td>\n",
       "      <td>...</td>\n",
       "      <td>NaN</td>\n",
       "      <td>NaN</td>\n",
       "      <td>142.0</td>\n",
       "      <td>52682.0</td>\n",
       "      <td>0</td>\n",
       "      <td>NaN</td>\n",
       "      <td>0</td>\n",
       "      <td>0.0</td>\n",
       "      <td>3.0</td>\n",
       "      <td>0</td>\n",
       "    </tr>\n",
       "    <tr>\n",
       "      <th>3</th>\n",
       "      <td>00000b11598a75ea8ba1beea8459149f</td>\n",
       "      <td>1.1.15100.1</td>\n",
       "      <td>4.18.1807.18075</td>\n",
       "      <td>1.273.1527.0</td>\n",
       "      <td>53447.0</td>\n",
       "      <td>1.0</td>\n",
       "      <td>88</td>\n",
       "      <td>20710.0</td>\n",
       "      <td>NaN</td>\n",
       "      <td>117.0</td>\n",
       "      <td>...</td>\n",
       "      <td>NaN</td>\n",
       "      <td>NaN</td>\n",
       "      <td>355.0</td>\n",
       "      <td>20050.0</td>\n",
       "      <td>0</td>\n",
       "      <td>NaN</td>\n",
       "      <td>0</td>\n",
       "      <td>0.0</td>\n",
       "      <td>3.0</td>\n",
       "      <td>1</td>\n",
       "    </tr>\n",
       "    <tr>\n",
       "      <th>4</th>\n",
       "      <td>000014a5f00daa18e76b81417eeb99fc</td>\n",
       "      <td>1.1.15100.1</td>\n",
       "      <td>4.18.1807.18075</td>\n",
       "      <td>1.273.1379.0</td>\n",
       "      <td>53447.0</td>\n",
       "      <td>1.0</td>\n",
       "      <td>18</td>\n",
       "      <td>37376.0</td>\n",
       "      <td>NaN</td>\n",
       "      <td>277.0</td>\n",
       "      <td>...</td>\n",
       "      <td>0.0</td>\n",
       "      <td>0.0</td>\n",
       "      <td>355.0</td>\n",
       "      <td>19844.0</td>\n",
       "      <td>0</td>\n",
       "      <td>0.0</td>\n",
       "      <td>0</td>\n",
       "      <td>0.0</td>\n",
       "      <td>1.0</td>\n",
       "      <td>1</td>\n",
       "    </tr>\n",
       "  </tbody>\n",
       "</table>\n",
       "<p>5 rows × 57 columns</p>\n",
       "</div>"
      ],
      "text/plain": [
       "                  MachineIdentifier EngineVersion       AppVersion  \\\n",
       "0  0000028988387b115f69f31a3bf04f09   1.1.15100.1  4.18.1807.18075   \n",
       "1  000007535c3f730efa9ea0b7ef1bd645   1.1.14600.4     4.13.17134.1   \n",
       "2  000007905a28d863f6d0d597892cd692   1.1.15100.1  4.18.1807.18075   \n",
       "3  00000b11598a75ea8ba1beea8459149f   1.1.15100.1  4.18.1807.18075   \n",
       "4  000014a5f00daa18e76b81417eeb99fc   1.1.15100.1  4.18.1807.18075   \n",
       "\n",
       "   AvSigVersion  AVProductStatesIdentifier  AVProductsInstalled  \\\n",
       "0  1.273.1735.0                    53447.0                  1.0   \n",
       "1    1.263.48.0                    53447.0                  1.0   \n",
       "2  1.273.1341.0                    53447.0                  1.0   \n",
       "3  1.273.1527.0                    53447.0                  1.0   \n",
       "4  1.273.1379.0                    53447.0                  1.0   \n",
       "\n",
       "   CountryIdentifier  CityIdentifier  OrganizationIdentifier  \\\n",
       "0                 29        128035.0                    18.0   \n",
       "1                 93          1482.0                    18.0   \n",
       "2                 86        153579.0                    18.0   \n",
       "3                 88         20710.0                     NaN   \n",
       "4                 18         37376.0                     NaN   \n",
       "\n",
       "   GeoNameIdentifier      ...        Census_IsFlightingInternal  \\\n",
       "0               35.0      ...                               NaN   \n",
       "1              119.0      ...                               NaN   \n",
       "2               64.0      ...                               NaN   \n",
       "3              117.0      ...                               NaN   \n",
       "4              277.0      ...                               0.0   \n",
       "\n",
       "   Census_ThresholdOptIn  Census_FirmwareManufacturerIdentifier  \\\n",
       "0                    NaN                                  628.0   \n",
       "1                    NaN                                  628.0   \n",
       "2                    NaN                                  142.0   \n",
       "3                    NaN                                  355.0   \n",
       "4                    0.0                                  355.0   \n",
       "\n",
       "  Census_FirmwareVersionIdentifier Census_IsSecureBootEnabled  \\\n",
       "0                          36144.0                          0   \n",
       "1                          57858.0                          0   \n",
       "2                          52682.0                          0   \n",
       "3                          20050.0                          0   \n",
       "4                          19844.0                          0   \n",
       "\n",
       "  Census_IsWIMBootEnabled  Census_IsTouchEnabled Wdft_IsGamer  \\\n",
       "0                     NaN                      0          0.0   \n",
       "1                     NaN                      0          0.0   \n",
       "2                     NaN                      0          0.0   \n",
       "3                     NaN                      0          0.0   \n",
       "4                     0.0                      0          0.0   \n",
       "\n",
       "  Wdft_RegionIdentifier  HasDetections  \n",
       "0                  10.0              0  \n",
       "1                   8.0              0  \n",
       "2                   3.0              0  \n",
       "3                   3.0              1  \n",
       "4                   1.0              1  \n",
       "\n",
       "[5 rows x 57 columns]"
      ]
     },
     "execution_count": 11,
     "metadata": {},
     "output_type": "execute_result"
    }
   ],
   "source": [
    "train.head()"
   ]
  },
  {
   "cell_type": "code",
   "execution_count": 45,
   "metadata": {},
   "outputs": [],
   "source": [
    "import plotly\n",
    "from plotly.offline import download_plotlyjs, init_notebook_mode, plot, iplot\n",
    "plotly.tools.set_credentials_file(username='songsabermetrics', api_key='gIrKHN8H3qG1NPtQvLFx')"
   ]
  },
  {
   "cell_type": "code",
   "execution_count": 64,
   "metadata": {
    "_kg_hide-input": true,
    "_uuid": "f92ad117017d395def1526c5ef2c8f65a4cb0fd6"
   },
   "outputs": [],
   "source": [
    "# function to plot data\n",
    "%matplotlib inline\n",
    "def plot_categorical_feature(col, only_bars=False, top_n=10, by_touch=False):\n",
    "    top_n = top_n if train[col].nunique() > top_n else train[col].nunique()\n",
    "    print(f\"{col} has {train[col].nunique()} unique values and type: {train[col].dtype}.\")\n",
    "    print(train[col].value_counts(normalize=True, dropna=False).head())\n",
    "    if not by_touch:\n",
    "        if not only_bars:\n",
    "            df = train.groupby([col]).agg({'HasDetections': ['count', 'mean']})\n",
    "            df = df.sort_values(('HasDetections', 'count'), ascending=False).head(top_n).sort_index()\n",
    "            data = [go.Bar(x=df.index, y=df['HasDetections']['count'].values, name='counts'),\n",
    "                    go.Scatter(x=df.index, y=df['HasDetections']['mean'], name='Detections rate', yaxis='y2')]\n",
    "\n",
    "            layout = go.Layout(dict(title = f\"Counts of {col} by top-{top_n} categories and mean target value\",\n",
    "                                xaxis = dict(title = f'{col}',\n",
    "                                             showgrid=False,\n",
    "                                             zeroline=False,\n",
    "                                             showline=False,),\n",
    "                                yaxis = dict(title = 'Counts',\n",
    "                                             showgrid=False,\n",
    "                                             zeroline=False,\n",
    "                                             showline=False,),\n",
    "                                yaxis2=dict(title='Detections rate', overlaying='y', side='right')),\n",
    "                           legend=dict(orientation=\"v\"))\n",
    "\n",
    "        else:\n",
    "            top_cat = list(train[col].value_counts(dropna=False).index[:top_n])\n",
    "            df0 = train.loc[(train[col].isin(top_cat)) & (train['HasDetections'] == 1), col].value_counts().head(10).sort_index()\n",
    "            df1 = train.loc[(train[col].isin(top_cat)) & (train['HasDetections'] == 0), col].value_counts().head(10).sort_index()\n",
    "            data = [go.Bar(x=df0.index, y=df0.values, name='Has Detections'),\n",
    "                    go.Bar(x=df1.index, y=df1.values, name='No Detections')]\n",
    "\n",
    "            layout = go.Layout(dict(title = f\"Counts of {col} by top-{top_n} categories\",\n",
    "                                xaxis = dict(title = f'{col}',\n",
    "                                             showgrid=False,\n",
    "                                             zeroline=False,\n",
    "                                             showline=False,),\n",
    "                                yaxis = dict(title = 'Counts',\n",
    "                                             showgrid=False,\n",
    "                                             zeroline=False,\n",
    "                                             showline=False,),\n",
    "                                ),\n",
    "                           legend=dict(orientation=\"v\"), barmode='group')\n",
    "        \n",
    "        py.iplot(dict(data=data, layout=layout))\n",
    "        \n",
    "    else:\n",
    "        top_n = 10\n",
    "        top_cat = list(train[col].value_counts(dropna=False).index[:top_n])\n",
    "        df = train.loc[train[col].isin(top_cat)]\n",
    "\n",
    "        df1 = train.loc[train['Census_IsTouchEnabled'] == 1]\n",
    "        df0 = train.loc[train['Census_IsTouchEnabled'] == 0]\n",
    "\n",
    "        df0_ = df0.groupby([col]).agg({'HasDetections': ['count', 'mean']})\n",
    "        df0_ = df0_.sort_values(('HasDetections', 'count'), ascending=False).head(top_n).sort_index()\n",
    "        df1_ = df1.groupby([col]).agg({'HasDetections': ['count', 'mean']})\n",
    "        df1_ = df1_.sort_values(('HasDetections', 'count'), ascending=False).head(top_n).sort_index()\n",
    "        data1 = [go.Bar(x=df0_.index, y=df0_['HasDetections']['count'].values, name='Nontouch device counts'),\n",
    "                go.Scatter(x=df0_.index, y=df0_['HasDetections']['mean'], name='Detections rate for nontouch devices', yaxis='y2')]\n",
    "        data2 = [go.Bar(x=df1_.index, y=df1_['HasDetections']['count'].values, name='Touch device counts'),\n",
    "                go.Scatter(x=df1_.index, y=df1_['HasDetections']['mean'], name='Detections rate for touch devices', yaxis='y2')]\n",
    "\n",
    "        layout = go.Layout(dict(title = f\"Counts of {col} by top-{top_n} categories for nontouch devices\",\n",
    "                            xaxis = dict(title = f'{col}',\n",
    "                                         showgrid=False,\n",
    "                                         zeroline=False,\n",
    "                                         showline=False,\n",
    "                                         type='category'),\n",
    "                            yaxis = dict(title = 'Counts',\n",
    "                                         showgrid=False,\n",
    "                                         zeroline=False,\n",
    "                                         showline=False,),\n",
    "                                    yaxis2=dict(title='Detections rate', overlaying='y', side='right'),\n",
    "                            ),\n",
    "                       legend=dict(orientation=\"v\"), barmode='group')\n",
    "        \n",
    "        py.iplot(dict(data=data1, layout=layout))\n",
    "        layout['title'] = f\"Counts of {col} by top-{top_n} categories for touch devices\"\n",
    "        py.iplot(dict(data=data2, layout=layout))"
   ]
  },
  {
   "cell_type": "markdown",
   "metadata": {
    "_uuid": "7991c2d43b73ec471fb6b93f1c13249631756ff3"
   },
   "source": [
    "### Target"
   ]
  },
  {
   "cell_type": "code",
   "execution_count": 65,
   "metadata": {
    "_uuid": "1aabee218c620c7cbdb0af84ebcffcc97a4db611"
   },
   "outputs": [
    {
     "data": {
      "text/plain": [
       "0    4462591\n",
       "1    4458892\n",
       "Name: HasDetections, dtype: int64"
      ]
     },
     "execution_count": 65,
     "metadata": {},
     "output_type": "execute_result"
    }
   ],
   "source": [
    "train['HasDetections'].value_counts()"
   ]
  },
  {
   "cell_type": "markdown",
   "metadata": {
    "_uuid": "bc3aace292060c33a3852203653e52270d8660bc"
   },
   "source": [
    "The target is balanced, which is nice."
   ]
  },
  {
   "cell_type": "markdown",
   "metadata": {
    "_uuid": "b9b1a15d64c09734139fd0e5336188703107928d"
   },
   "source": [
    "### Census_IsTouchEnabled"
   ]
  },
  {
   "cell_type": "code",
   "execution_count": 66,
   "metadata": {
    "_uuid": "d0e8db0ab58b7f998b695c12e3cb5c1880ee1e7a"
   },
   "outputs": [
    {
     "data": {
      "text/html": [
       "<script type=\"text/javascript\">window.PlotlyConfig = {MathJaxConfig: 'local'};</script><script type=\"text/javascript\">if (window.MathJax) {MathJax.Hub.Config({SVG: {font: \"STIX-Web\"}});}</script><script>requirejs.config({paths: { 'plotly': ['https://cdn.plot.ly/plotly-latest.min']},});if(!window._Plotly) {require(['plotly'],function(plotly) {window._Plotly=plotly;});}</script>"
      ],
      "text/vnd.plotly.v1+html": [
       "<script type=\"text/javascript\">window.PlotlyConfig = {MathJaxConfig: 'local'};</script><script type=\"text/javascript\">if (window.MathJax) {MathJax.Hub.Config({SVG: {font: \"STIX-Web\"}});}</script><script>requirejs.config({paths: { 'plotly': ['https://cdn.plot.ly/plotly-latest.min']},});if(!window._Plotly) {require(['plotly'],function(plotly) {window._Plotly=plotly;});}</script>"
      ]
     },
     "metadata": {},
     "output_type": "display_data"
    },
    {
     "name": "stdout",
     "output_type": "stream",
     "text": [
      "Census_IsTouchEnabled has 2 unique values and type: int8.\n",
      "0    0.874457\n",
      "1    0.125543\n",
      "Name: Census_IsTouchEnabled, dtype: float64\n"
     ]
    },
    {
     "name": "stderr",
     "output_type": "stream",
     "text": [
      "C:\\Users\\PC\\Anaconda3\\lib\\site-packages\\IPython\\core\\display.py:689: UserWarning:\n",
      "\n",
      "Consider using IPython.display.IFrame instead\n",
      "\n"
     ]
    }
   ],
   "source": [
    "import plotly.graph_objs as go\n",
    "from plotly.offline import *\n",
    "init_notebook_mode(connected=True)\n",
    "plot_categorical_feature('Census_IsTouchEnabled', True)"
   ]
  },
  {
   "cell_type": "markdown",
   "metadata": {
    "_uuid": "667159429461fae73959b32d4d9e6779e33b905a"
   },
   "source": [
    "As expected Microsoft has much more computers that touch devices. The rate of infections is lower for touch devices, but not by much."
   ]
  },
  {
   "cell_type": "markdown",
   "metadata": {
    "_uuid": "0fb583c4759ad06f8f32a4ddc8f19727cc4171c0"
   },
   "source": [
    "### Variables with high amount of unique values\n",
    "At first I'll have a look at variables  with a lot of categories. Then I'll move to more interesting variables with a limited amount of categories."
   ]
  },
  {
   "cell_type": "markdown",
   "metadata": {
    "_uuid": "78935b472cc3b2604418de9f61f2e2db1b7aca16"
   },
   "source": [
    "## EngineVersion"
   ]
  },
  {
   "cell_type": "code",
   "execution_count": null,
   "metadata": {
    "_uuid": "71b8e017afdfcdeb4d5a6ff0b5cbe8a61d4b159b"
   },
   "outputs": [],
   "source": [
    "plot_categorical_feature('EngineVersion', by_touch=True)"
   ]
  },
  {
   "cell_type": "markdown",
   "metadata": {
    "_uuid": "8c843c4649844eab233e3702eda82706aae9e671"
   },
   "source": [
    "We can see that two categories take 84% of all values. The difference in detection rates is noticable. Other categories have different detection rate, but it is simply due to the low number of samples in them.\n",
    "Patterns for touch and non-touch devices are quite similar."
   ]
  },
  {
   "cell_type": "markdown",
   "metadata": {
    "_uuid": "48b391657358c87a723761d103b5e9e99614b4fa"
   },
   "source": [
    "### AppVersion"
   ]
  },
  {
   "cell_type": "code",
   "execution_count": null,
   "metadata": {
    "_uuid": "2a93cba166288dabf11fe218d48da15711f4375e"
   },
   "outputs": [],
   "source": [
    "plot_categorical_feature('AppVersion')"
   ]
  },
  {
   "cell_type": "markdown",
   "metadata": {
    "_uuid": "3d89090f5fa5c2e853cdf903df294f93331a9810"
   },
   "source": [
    "In this case we have one main category with 0.53 detection rate, other categories are much smaller."
   ]
  },
  {
   "cell_type": "markdown",
   "metadata": {
    "_uuid": "89e43b9040164bddce9bb813b82d2969a2a9b4c2"
   },
   "source": [
    "### AvSigVersion"
   ]
  },
  {
   "cell_type": "code",
   "execution_count": null,
   "metadata": {
    "_uuid": "bb711d24b1dbbf4c38437cbca43f35fdd5da903e"
   },
   "outputs": [],
   "source": [
    "plot_categorical_feature('AvSigVersion')"
   ]
  },
  {
   "cell_type": "markdown",
   "metadata": {
    "_uuid": "80b091f0d9b81a65242e2d2d356d0d6fd55c9dbf"
   },
   "source": [
    "This feature has a huge amount of categories, it seems this is a version of an often updated software."
   ]
  },
  {
   "cell_type": "markdown",
   "metadata": {
    "_uuid": "68c4a3fe4da3cce202cfb0150ced80d23dec0fba"
   },
   "source": [
    "### AVProductStatesIdentifier"
   ]
  },
  {
   "cell_type": "code",
   "execution_count": null,
   "metadata": {
    "_uuid": "aeb38f2065afafc13568e5a410d702a7bf788195"
   },
   "outputs": [],
   "source": [
    "plot_categorical_feature('AVProductStatesIdentifier', True, 10)"
   ]
  },
  {
   "cell_type": "markdown",
   "metadata": {
    "_uuid": "6e5ffa60457eb4dd8a52bb6e480e07392f989feb"
   },
   "source": [
    "This is definitely a categorical variable."
   ]
  },
  {
   "cell_type": "code",
   "execution_count": null,
   "metadata": {
    "_uuid": "43757e0bc2eb2e7b6caa106e64732933c7e1e990"
   },
   "outputs": [],
   "source": [
    "train['AVProductStatesIdentifier'] = train['AVProductStatesIdentifier'].astype('category')\n",
    "test['AVProductStatesIdentifier'] = test['AVProductStatesIdentifier'].astype('category')"
   ]
  },
  {
   "cell_type": "markdown",
   "metadata": {
    "_uuid": "d5c48341db21ad9adea02fdedb187e24b145af90"
   },
   "source": [
    "### AVProductsInstalled"
   ]
  },
  {
   "cell_type": "code",
   "execution_count": null,
   "metadata": {
    "_uuid": "50aa34017f308c04f07182fd9cc1c56d0c3c0572"
   },
   "outputs": [],
   "source": [
    "plot_categorical_feature('AVProductsInstalled', True)"
   ]
  },
  {
   "cell_type": "markdown",
   "metadata": {
    "_uuid": "826e6acfb4aa12415b58b2336916c5d381ae6c9c"
   },
   "source": [
    "Hm, interesting. If a computer has an antivirus, it is less likely to be infected. But having two antiviruses has an opposite effect. Maybe those who install 2 antiviruses tend to have less experience with working on PC?\n",
    "Also other categories have really low samples, let's combine them."
   ]
  },
  {
   "cell_type": "code",
   "execution_count": null,
   "metadata": {
    "_uuid": "7541d8e2cb1167dce6e543bb3e1069da7ecee3b4"
   },
   "outputs": [],
   "source": [
    "# train.loc[train['AVProductsInstalled'].isin([1, 2]) == False, 'AVProductsInstalled'] = 3\n",
    "# test.loc[test['AVProductsInstalled'].isin([1, 2]) == False, 'AVProductsInstalled'] = 3"
   ]
  },
  {
   "cell_type": "code",
   "execution_count": null,
   "metadata": {
    "_uuid": "f1fb239c34142405cc49244cae4dc061fe7e963a"
   },
   "outputs": [],
   "source": [
    "train['AVProductsInstalled'] = train['AVProductsInstalled'].astype('category')\n",
    "test['AVProductsInstalled'] = test['AVProductsInstalled'].astype('category')"
   ]
  },
  {
   "cell_type": "code",
   "execution_count": null,
   "metadata": {
    "_uuid": "52a71f4ef3a01bcf003813c91a189676c748e90f"
   },
   "outputs": [],
   "source": [
    "plot_categorical_feature('AVProductsInstalled', True, by_touch=True)"
   ]
  },
  {
   "cell_type": "markdown",
   "metadata": {
    "_uuid": "0fe06a38651a502db5bab1009fbfab7e02c47445"
   },
   "source": [
    "It is interesting, that even on touch devices people sometimes install 2 antiviruses."
   ]
  },
  {
   "cell_type": "markdown",
   "metadata": {
    "_uuid": "ceb7aa7f80a822e9ce56674658c6df9cff8a0543"
   },
   "source": [
    "### CountryIdentifier"
   ]
  },
  {
   "cell_type": "code",
   "execution_count": null,
   "metadata": {
    "_uuid": "e480e89554b70a598fd1a5774219035b16b4bda7"
   },
   "outputs": [],
   "source": [
    "plot_categorical_feature('CountryIdentifier', True, 20)"
   ]
  },
  {
   "cell_type": "markdown",
   "metadata": {
    "_uuid": "5ea13384fc3335b579e359ca0309c74ab296de17"
   },
   "source": [
    "Once again we have a categorical column which was defined as numerical. While most countries have rate of detections ~50%, there are some countries where there are much more infected devices."
   ]
  },
  {
   "cell_type": "code",
   "execution_count": null,
   "metadata": {
    "_uuid": "b65ad61107874bf7591b98458a903b0ac8498860"
   },
   "outputs": [],
   "source": [
    "train['CountryIdentifier'] = train['CountryIdentifier'].astype('category')\n",
    "test['CountryIdentifier'] = test['CountryIdentifier'].astype('category')"
   ]
  },
  {
   "cell_type": "markdown",
   "metadata": {
    "_uuid": "c117b9c1ea3ed10ec4e038ca476626324f7e0a72"
   },
   "source": [
    "### CityIdentifier\n",
    "The same situation for cities."
   ]
  },
  {
   "cell_type": "code",
   "execution_count": null,
   "metadata": {
    "_uuid": "55486df5725f6dc24539aaddfec709f1a967296a"
   },
   "outputs": [],
   "source": [
    "plot_categorical_feature('CityIdentifier', True, 20)"
   ]
  },
  {
   "cell_type": "code",
   "execution_count": null,
   "metadata": {
    "_uuid": "33737880cf620ebc1ce3b28aee29d9902cc08343"
   },
   "outputs": [],
   "source": [
    "train['CityIdentifier'] = train['CityIdentifier'].astype('category')\n",
    "test['CityIdentifier'] = test['CityIdentifier'].astype('category')"
   ]
  },
  {
   "cell_type": "markdown",
   "metadata": {
    "_uuid": "91e33e07d3e49959b95ed5ae0e0515884f0cefbf"
   },
   "source": [
    "### OrganizationIdentifier"
   ]
  },
  {
   "cell_type": "code",
   "execution_count": null,
   "metadata": {
    "_uuid": "3bdae949e62c4fcc0ee9d43aa4ceb7f3b7015ae9"
   },
   "outputs": [],
   "source": [
    "plot_categorical_feature('OrganizationIdentifier', True)"
   ]
  },
  {
   "cell_type": "markdown",
   "metadata": {
    "_uuid": "61e031661b3f70ca07d78464c2953d9376c9cb3a"
   },
   "source": [
    "This is quuite strange. 2 organizations cover ~66% of all computers, while unknown organizations have 30% more. Maybe these are some specific industries? Let's combine values."
   ]
  },
  {
   "cell_type": "code",
   "execution_count": null,
   "metadata": {
    "_uuid": "8bd39ccb370f353948c2210e212eb6a11608d131"
   },
   "outputs": [],
   "source": [
    "# train.loc[train['OrganizationIdentifier'].isin([27, 18]) == False, 'OrganizationIdentifier'] = 48\n",
    "# test.loc[test['OrganizationIdentifier'].isin([27, 18]) == False, 'OrganizationIdentifier'] = 48"
   ]
  },
  {
   "cell_type": "code",
   "execution_count": null,
   "metadata": {
    "_uuid": "10c40b8f14396b4efc838109d480042bce7a2b91"
   },
   "outputs": [],
   "source": [
    "train['OrganizationIdentifier'] = train['OrganizationIdentifier'].astype('category')\n",
    "test['OrganizationIdentifier'] = test['OrganizationIdentifier'].astype('category')"
   ]
  },
  {
   "cell_type": "code",
   "execution_count": null,
   "metadata": {
    "_uuid": "e200ff27695f1fa62d89480c7c52a50b21770b3b"
   },
   "outputs": [],
   "source": [
    "plot_categorical_feature('OrganizationIdentifier', True, by_touch=True)"
   ]
  },
  {
   "cell_type": "markdown",
   "metadata": {
    "_uuid": "944d9794014aa90ed02a2899116d9542fbad5f89"
   },
   "source": []
  },
  {
   "cell_type": "markdown",
   "metadata": {
    "_uuid": "8d6b490f47bb6dbfd15374200afc89f7cb4d805d"
   },
   "source": [
    "### GeoNameIdentifier"
   ]
  },
  {
   "cell_type": "code",
   "execution_count": null,
   "metadata": {
    "_uuid": "2f13cd3332de334e75c8212e99cbd756e299b12e"
   },
   "outputs": [],
   "source": [
    "plot_categorical_feature('GeoNameIdentifier', True)"
   ]
  },
  {
   "cell_type": "code",
   "execution_count": null,
   "metadata": {
    "_uuid": "7a0a4e951ab65cf28a761b6a9181e0bba43c637a"
   },
   "outputs": [],
   "source": [
    "train['GeoNameIdentifier'] = train['GeoNameIdentifier'].astype('category')\n",
    "test['GeoNameIdentifier'] = test['GeoNameIdentifier'].astype('category')"
   ]
  },
  {
   "cell_type": "markdown",
   "metadata": {
    "_uuid": "8bd061dd811f5ba9347b258f75e0000198e293f9"
   },
   "source": [
    "### LocaleEnglishNameIdentifier"
   ]
  },
  {
   "cell_type": "code",
   "execution_count": null,
   "metadata": {
    "_uuid": "ad6e7de1087f5f55ff7691a9b3b3b5421ba3bf1b"
   },
   "outputs": [],
   "source": [
    "plot_categorical_feature('LocaleEnglishNameIdentifier', True)"
   ]
  },
  {
   "cell_type": "code",
   "execution_count": null,
   "metadata": {
    "_uuid": "6cba090ab2e119784ad61284938babf0dbfb3ebe"
   },
   "outputs": [],
   "source": [
    "train['LocaleEnglishNameIdentifier'] = train['LocaleEnglishNameIdentifier'].astype('category')\n",
    "test['LocaleEnglishNameIdentifier'] = test['LocaleEnglishNameIdentifier'].astype('category')"
   ]
  },
  {
   "cell_type": "markdown",
   "metadata": {
    "_uuid": "49c6111ef8c99d98d20c3388b3e3ae7254854b1b"
   },
   "source": [
    "### OsPlatformSubRelease"
   ]
  },
  {
   "cell_type": "code",
   "execution_count": null,
   "metadata": {
    "_uuid": "52e34065300f3bf133819bffdd45b0a039230f38"
   },
   "outputs": [],
   "source": [
    "plot_categorical_feature('OsPlatformSubRelease', True, by_touch=True)"
   ]
  },
  {
   "cell_type": "markdown",
   "metadata": {
    "_uuid": "fb8caf11cd9a361a617d3bb2695dc54e8f12f232"
   },
   "source": [
    "It is interesting that most computers have Windows 10 (rs*). I suppose Microsoft specifically chose them, so that we would work with modern devices?"
   ]
  },
  {
   "cell_type": "markdown",
   "metadata": {
    "_uuid": "852d47e0cb58967bf96c5eb4454c2899a26dcb58"
   },
   "source": [
    "### OsBuildLab"
   ]
  },
  {
   "cell_type": "code",
   "execution_count": null,
   "metadata": {
    "_uuid": "7855263bcc49ee9630051dbb25cd2299a8fa563e"
   },
   "outputs": [],
   "source": [
    "plot_categorical_feature('OsBuildLab', True)"
   ]
  },
  {
   "cell_type": "markdown",
   "metadata": {
    "_uuid": "fced53f990cae55d0de582286f81f95a02667ac3"
   },
   "source": [
    "### IeVerIdentifier"
   ]
  },
  {
   "cell_type": "code",
   "execution_count": null,
   "metadata": {
    "_uuid": "6395cf295eee8e9d5dfd862897e3f85904dd14ba"
   },
   "outputs": [],
   "source": [
    "plot_categorical_feature('IeVerIdentifier', True)"
   ]
  },
  {
   "cell_type": "code",
   "execution_count": null,
   "metadata": {
    "_uuid": "bc368d10e809295659c478f0caa10ad373d65b9a"
   },
   "outputs": [],
   "source": [
    "train['IeVerIdentifier'] = train['IeVerIdentifier'].astype('category')\n",
    "test['IeVerIdentifier'] = test['IeVerIdentifier'].astype('category')"
   ]
  },
  {
   "cell_type": "markdown",
   "metadata": {
    "_uuid": "d0a876cd06361f4e0f021940d0bc1a9ddec97860"
   },
   "source": [
    "### Census_OEMNameIdentifier"
   ]
  },
  {
   "cell_type": "code",
   "execution_count": null,
   "metadata": {
    "_uuid": "468c41f0e18e2de5e718658b57c0f42bb3584d9e"
   },
   "outputs": [],
   "source": [
    "plot_categorical_feature('Census_OEMNameIdentifier', True)"
   ]
  },
  {
   "cell_type": "code",
   "execution_count": null,
   "metadata": {
    "_uuid": "1d5c22dcbd04ff6ad7de1dc382ef926193375f59"
   },
   "outputs": [],
   "source": [
    "train['Census_OEMNameIdentifier'] = train['Census_OEMNameIdentifier'].astype('category')\n",
    "test['Census_OEMNameIdentifier'] = test['Census_OEMNameIdentifier'].astype('category')"
   ]
  },
  {
   "cell_type": "markdown",
   "metadata": {
    "_uuid": "54a9022593a81840d245216ce98581f36b59328c"
   },
   "source": [
    "### Census_OEMModelIdentifier"
   ]
  },
  {
   "cell_type": "code",
   "execution_count": null,
   "metadata": {
    "_uuid": "e6ff4dc94f010ee7ccb2171d6a22c68542a7759d"
   },
   "outputs": [],
   "source": [
    "plot_categorical_feature('Census_OEMModelIdentifier', True)"
   ]
  },
  {
   "cell_type": "code",
   "execution_count": null,
   "metadata": {
    "_uuid": "03b7acde3df5d1ac8326f4f7ce72a40840b92b2b"
   },
   "outputs": [],
   "source": [
    "train['Census_OEMModelIdentifier'] = train['Census_OEMModelIdentifier'].astype('category')\n",
    "test['Census_OEMModelIdentifier'] = test['Census_OEMModelIdentifier'].astype('category')"
   ]
  },
  {
   "cell_type": "markdown",
   "metadata": {
    "_uuid": "f08a50a94c63aa05cd6894be12701d0a1743db91"
   },
   "source": [
    "### Census_ProcessorCoreCount"
   ]
  },
  {
   "cell_type": "code",
   "execution_count": null,
   "metadata": {
    "_uuid": "09091d7696ca47f2a6f811fc230873271d9105b4"
   },
   "outputs": [],
   "source": [
    "plot_categorical_feature('Census_ProcessorCoreCount', True, by_touch=True)"
   ]
  },
  {
   "cell_type": "markdown",
   "metadata": {
    "_uuid": "a7c08d3ba77bcfd8ccf19639cacb282664ff9894"
   },
   "source": [
    "Most computers have 2, 4 or 8 cores. For touch deviced 4 cores are much more common than other configurations. And these 3 variants cover 95% of all samples,"
   ]
  },
  {
   "cell_type": "code",
   "execution_count": null,
   "metadata": {
    "_uuid": "ccd3afd5c2df0474b18bc3aeb267b82f0c6389da"
   },
   "outputs": [],
   "source": [
    "# train.loc[train['Census_ProcessorCoreCount'].isin([2, 4, 8, 12]) == False, 'Census_ProcessorCoreCount'] = 1\n",
    "# test.loc[test['Census_ProcessorCoreCount'].isin([2, 4, 8, 12]) == False, 'Census_ProcessorCoreCount'] = 1"
   ]
  },
  {
   "cell_type": "markdown",
   "metadata": {
    "_uuid": "471cb7fa145f843ce8e05d11aa87d0adb025786f"
   },
   "source": [
    "### Census_ProcessorModelIdentifier"
   ]
  },
  {
   "cell_type": "code",
   "execution_count": null,
   "metadata": {
    "_uuid": "b9bc77c62c4d4579cc191c16ad000a0be577324f"
   },
   "outputs": [],
   "source": [
    "plot_categorical_feature('Census_ProcessorModelIdentifier', True)"
   ]
  },
  {
   "cell_type": "code",
   "execution_count": null,
   "metadata": {
    "_uuid": "055e21bb6eeb6fb7029096b9a6212d3707ccb368"
   },
   "outputs": [],
   "source": [
    "train['Census_ProcessorModelIdentifier'] = train['Census_ProcessorModelIdentifier'].astype('category')\n",
    "test['Census_ProcessorModelIdentifier'] = test['Census_ProcessorModelIdentifier'].astype('category')"
   ]
  },
  {
   "cell_type": "markdown",
   "metadata": {
    "_uuid": "d1e7319a58519bcc1e19cfaea2c5c2c2d6fb7db8"
   },
   "source": [
    "### Census_PrimaryDiskTotalCapacity"
   ]
  },
  {
   "cell_type": "code",
   "execution_count": null,
   "metadata": {
    "_uuid": "364997c0f673ce066ddf41fd147a498887964080"
   },
   "outputs": [],
   "source": [
    "plot_categorical_feature('Census_PrimaryDiskTotalCapacity', True)"
   ]
  },
  {
   "cell_type": "markdown",
   "metadata": {
    "_uuid": "c1173debf8cc6be314eb36579f644d85ac6c8d7b"
   },
   "source": [
    "### Census_SystemVolumeTotalCapacity"
   ]
  },
  {
   "cell_type": "code",
   "execution_count": null,
   "metadata": {
    "_uuid": "49bbf08d881b514cfa7c754334e5454bdd5193d1"
   },
   "outputs": [],
   "source": [
    "plot_categorical_feature('Census_SystemVolumeTotalCapacity', True)"
   ]
  },
  {
   "cell_type": "markdown",
   "metadata": {
    "_uuid": "e924ab98e43f7dca1bb1da0bedbeb07c6f50e3fb"
   },
   "source": [
    "I think that this is a first truly numerical variable. Census_PrimaryDiskTotalCapacity could be numerical, but it has too little unique values and every category could be considered a separate disk model."
   ]
  },
  {
   "cell_type": "markdown",
   "metadata": {
    "_uuid": "ef64819f9bcaa9454e9a8fad3194c9566fe42578"
   },
   "source": [
    "### Census_TotalPhysicalRAM"
   ]
  },
  {
   "cell_type": "code",
   "execution_count": null,
   "metadata": {
    "_uuid": "2f963d28b5b7ca566f4e5d8bc15c26e7592f4b14"
   },
   "outputs": [],
   "source": [
    "plot_categorical_feature('Census_TotalPhysicalRAM', True, by_touch=True)"
   ]
  },
  {
   "cell_type": "markdown",
   "metadata": {
    "_uuid": "7e93e727a87188c62c610123ce011fe34bc7dc41"
   },
   "source": [
    "Quite interesting that most computers have <=8 Gb RAM."
   ]
  },
  {
   "cell_type": "code",
   "execution_count": null,
   "metadata": {
    "_uuid": "a0038a685d429849a37515d201d6397b648a5443"
   },
   "outputs": [],
   "source": [
    "# top_10 = train['Census_TotalPhysicalRAM'].value_counts(dropna=False, normalize=True).cumsum().index[:10]\n",
    "# train.loc[train['Census_TotalPhysicalRAM'].isin(top_10) == False, 'Census_TotalPhysicalRAM'] = 1000\n",
    "# test.loc[test['Census_TotalPhysicalRAM'].isin(top_10) == False, 'Census_TotalPhysicalRAM'] = 1000"
   ]
  },
  {
   "cell_type": "markdown",
   "metadata": {
    "_uuid": "8d1e698b4bf550514a02bc1957885d345e8e1417"
   },
   "source": [
    "### Census_InternalPrimaryDiagonalDisplaySizeInInches"
   ]
  },
  {
   "cell_type": "code",
   "execution_count": null,
   "metadata": {
    "_uuid": "616d8372a4309630b19c724573af649efeb294e5"
   },
   "outputs": [],
   "source": [
    "plot_categorical_feature('Census_InternalPrimaryDiagonalDisplaySizeInInches', True, by_touch=True)"
   ]
  },
  {
   "cell_type": "markdown",
   "metadata": {
    "_uuid": "89d80a978de55d0610cb7fd15949d975cc9789e5"
   },
   "source": [
    "I'm really surprised that most computers have 15 inch screens. And this is a rare situation, when for some categories detection rate on PC is higher than on touch devices."
   ]
  },
  {
   "cell_type": "markdown",
   "metadata": {
    "_uuid": "b3a38ceddcc451a0b6a9429a1f583a2949e000f4"
   },
   "source": [
    "### Census_InternalPrimaryDisplayResolutionHorizontal"
   ]
  },
  {
   "cell_type": "code",
   "execution_count": null,
   "metadata": {
    "_uuid": "e07c8a65602074e57edc79117762792cbcebb973"
   },
   "outputs": [],
   "source": [
    "plot_categorical_feature('Census_InternalPrimaryDisplayResolutionHorizontal', True, by_touch=True)"
   ]
  },
  {
   "cell_type": "markdown",
   "metadata": {
    "_uuid": "a47704c5130f32564d7840f9942d5f5442d04d75"
   },
   "source": [
    "### Census_InternalPrimaryDisplayResolutionVertical"
   ]
  },
  {
   "cell_type": "code",
   "execution_count": null,
   "metadata": {
    "_uuid": "5b66c41af40fee619b2a4fb61175a96d71fab9b4"
   },
   "outputs": [],
   "source": [
    "plot_categorical_feature('Census_InternalPrimaryDisplayResolutionVertical', True, by_touch=True)"
   ]
  },
  {
   "cell_type": "markdown",
   "metadata": {
    "_uuid": "92fad1744023256db40a4106c90bbe4671c4e9b9"
   },
   "source": [
    "### Census_InternalBatteryNumberOfCharges"
   ]
  },
  {
   "cell_type": "code",
   "execution_count": null,
   "metadata": {
    "_uuid": "79d2a988690a556dee4bb7bc732f83fa584c414a"
   },
   "outputs": [],
   "source": [
    "plot_categorical_feature('Census_InternalBatteryNumberOfCharges', True, by_touch=True)"
   ]
  },
  {
   "cell_type": "markdown",
   "metadata": {
    "_uuid": "04805330910b539d5635dc55f9a9e40ad30d7489"
   },
   "source": [
    "Interesting and somewhat strange results. It is expected that most PCs have 0 charges. 4.294967e+09 seems to be some kind of technical value. But having several charges for PC is strange. Anyway, this is definitely a categorical variable."
   ]
  },
  {
   "cell_type": "code",
   "execution_count": null,
   "metadata": {
    "_uuid": "09c710cfbaabdadae8664fe8363f0107a07ac1a6"
   },
   "outputs": [],
   "source": [
    "train['Census_InternalBatteryNumberOfCharges'] = train['Census_InternalBatteryNumberOfCharges'].astype('category')\n",
    "test['Census_InternalBatteryNumberOfCharges'] = test['Census_InternalBatteryNumberOfCharges'].astype('category')"
   ]
  },
  {
   "cell_type": "markdown",
   "metadata": {
    "_uuid": "2e936d16b19c8aa000b2cb5c3162de8d92e17319"
   },
   "source": [
    "### Census_OSVersion"
   ]
  },
  {
   "cell_type": "code",
   "execution_count": null,
   "metadata": {
    "_uuid": "7d6e84e5e8ae1f8df43698a055368924cc0e088e"
   },
   "outputs": [],
   "source": [
    "plot_categorical_feature('Census_OSVersion', True)"
   ]
  },
  {
   "cell_type": "markdown",
   "metadata": {
    "_uuid": "2063488bd80f442bb4383bec941dd87b85a17c68"
   },
   "source": [
    "### Census_OSBranch"
   ]
  },
  {
   "cell_type": "code",
   "execution_count": null,
   "metadata": {
    "_uuid": "d49ddc0060d915a104c9ba4226c605f60d54cc3e"
   },
   "outputs": [],
   "source": [
    "plot_categorical_feature('Census_OSBranch', True)"
   ]
  },
  {
   "cell_type": "markdown",
   "metadata": {
    "_uuid": "b72fbc344585436185f7a34b4110ca7e48b4a33f"
   },
   "source": [
    "### Census_OSBuildNumber"
   ]
  },
  {
   "cell_type": "code",
   "execution_count": null,
   "metadata": {
    "_uuid": "487f4612f466695db715a69f05a88d580ecba7b3"
   },
   "outputs": [],
   "source": [
    "plot_categorical_feature('Census_OSBuildNumber', True)"
   ]
  },
  {
   "cell_type": "code",
   "execution_count": null,
   "metadata": {
    "_uuid": "998b56953bbb390f1b7d82f1615836aafa3ff9a1"
   },
   "outputs": [],
   "source": [
    "train['Census_OSBuildNumber'] = train['Census_OSBuildNumber'].astype('category')\n",
    "test['Census_OSBuildNumber'] = test['Census_OSBuildNumber'].astype('category')"
   ]
  },
  {
   "cell_type": "markdown",
   "metadata": {
    "_uuid": "b4c12d5230be058e41e7ec1356703b9f65dee48f"
   },
   "source": [
    "### Census_OSBuildRevision"
   ]
  },
  {
   "cell_type": "code",
   "execution_count": null,
   "metadata": {
    "_uuid": "727619f5208abb305d072453e770765a2a217f8e"
   },
   "outputs": [],
   "source": [
    "plot_categorical_feature('Census_OSBuildRevision', True)"
   ]
  },
  {
   "cell_type": "code",
   "execution_count": null,
   "metadata": {
    "_uuid": "519418df0adb8072989d2fd148e9b574510f985d"
   },
   "outputs": [],
   "source": [
    "train['Census_OSBuildRevision'] = train['Census_OSBuildRevision'].astype('category')\n",
    "test['Census_OSBuildRevision'] = test['Census_OSBuildRevision'].astype('category')"
   ]
  },
  {
   "cell_type": "markdown",
   "metadata": {
    "_uuid": "6b7066691323f6fe95faad5d1bfd952817e94367"
   },
   "source": [
    "### Census_FirmwareManufacturerIdentifier"
   ]
  },
  {
   "cell_type": "code",
   "execution_count": null,
   "metadata": {
    "_uuid": "9f21580c86024a17f5dcfd723fec070aa01d7cd2"
   },
   "outputs": [],
   "source": [
    "plot_categorical_feature('Census_FirmwareManufacturerIdentifier', True)"
   ]
  },
  {
   "cell_type": "code",
   "execution_count": null,
   "metadata": {
    "_uuid": "4269f5becd963ab57a558d5d872220c168462027"
   },
   "outputs": [],
   "source": [
    "train['Census_FirmwareManufacturerIdentifier'] = train['Census_FirmwareManufacturerIdentifier'].astype('category')\n",
    "test['Census_FirmwareManufacturerIdentifier'] = test['Census_FirmwareManufacturerIdentifier'].astype('category')"
   ]
  },
  {
   "cell_type": "markdown",
   "metadata": {
    "_uuid": "12f57f7f92ba616047ca6c4cc9e1b7aebc18c881"
   },
   "source": [
    "### Census_FirmwareVersionIdentifier"
   ]
  },
  {
   "cell_type": "code",
   "execution_count": null,
   "metadata": {
    "_uuid": "9931bade616315f1cbcf26c4986718ca1068733b"
   },
   "outputs": [],
   "source": [
    "plot_categorical_feature('Census_FirmwareVersionIdentifier', True)"
   ]
  },
  {
   "cell_type": "code",
   "execution_count": null,
   "metadata": {
    "_uuid": "6f780aeb066bf4792913b4be3a66d76c897c2fd4"
   },
   "outputs": [],
   "source": [
    "train['Census_FirmwareVersionIdentifier'] = train['Census_FirmwareVersionIdentifier'].astype('category')\n",
    "test['Census_FirmwareVersionIdentifier'] = test['Census_FirmwareVersionIdentifier'].astype('category')"
   ]
  },
  {
   "cell_type": "markdown",
   "metadata": {
    "_uuid": "00bde2f28f3f8cdbe4558245b1f686f50aedc58e"
   },
   "source": [
    "### OsBuild"
   ]
  },
  {
   "cell_type": "code",
   "execution_count": null,
   "metadata": {
    "_uuid": "ec0b6a188aa0a595e5da75adbdf160e5697fdef1"
   },
   "outputs": [],
   "source": [
    "plot_categorical_feature('OsBuild', True)"
   ]
  },
  {
   "cell_type": "code",
   "execution_count": null,
   "metadata": {
    "_uuid": "6de456231a80333374474f0c1cb8d407e688ae65"
   },
   "outputs": [],
   "source": [
    "train['OsBuild'] = train['OsBuild'].astype('category')\n",
    "test['OsBuild'] = test['OsBuild'].astype('category')"
   ]
  },
  {
   "cell_type": "markdown",
   "metadata": {
    "_uuid": "006c82109b384b575dc57ab18df68513bedcceb2"
   },
   "source": [
    "### Census_ChassisTypeName"
   ]
  },
  {
   "cell_type": "code",
   "execution_count": null,
   "metadata": {
    "_uuid": "3ecd8498657f4154f4ac0a5426131167d83c503f"
   },
   "outputs": [],
   "source": [
    "plot_categorical_feature('Census_ChassisTypeName', True, by_touch=True)"
   ]
  },
  {
   "cell_type": "markdown",
   "metadata": {
    "_uuid": "ad710f3a426a5a1bef1231cd396fddaddbf2b1c5"
   },
   "source": [
    "### Census_InternalBatteryType"
   ]
  },
  {
   "cell_type": "code",
   "execution_count": null,
   "metadata": {
    "_uuid": "07e111cbab58815e858c8513c5aa5c44dc0104b0"
   },
   "outputs": [],
   "source": [
    "# https://www.kaggle.com/youhanlee/my-eda-i-want-to-see-all\n",
    "# grouping battary types by name\n",
    "def group_battery(x):\n",
    "    x = x.lower()\n",
    "    if 'li' in x:\n",
    "        return 1\n",
    "    else:\n",
    "        return 0\n",
    "    \n",
    "train['Census_InternalBatteryType'] = train['Census_InternalBatteryType'].apply(group_battery)\n",
    "test['Census_InternalBatteryType'] = test['Census_InternalBatteryType'].apply(group_battery)"
   ]
  },
  {
   "cell_type": "code",
   "execution_count": null,
   "metadata": {
    "_uuid": "52005e53ca31550aad34c3a2e3360f726bc2e213"
   },
   "outputs": [],
   "source": [
    "plot_categorical_feature('Census_InternalBatteryType', True)"
   ]
  },
  {
   "cell_type": "markdown",
   "metadata": {
    "_uuid": "f56d477bac7d7301e987ec9908a93ee24e1c221b"
   },
   "source": [
    "### Census_OSEdition\n",
    "\n",
    "I'll combine similar versions into one."
   ]
  },
  {
   "cell_type": "code",
   "execution_count": null,
   "metadata": {
    "_uuid": "9079f3e805b54e8992a52b07c427f60ce4a67b9a"
   },
   "outputs": [],
   "source": [
    "def rename_edition(x):\n",
    "    x = x.lower()\n",
    "    if 'core' in x:\n",
    "        return 'Core'\n",
    "    elif 'pro' in x:\n",
    "        return 'pro'\n",
    "    elif 'enterprise' in x:\n",
    "        return 'Enterprise'\n",
    "    elif 'server' in x:\n",
    "        return 'Server'\n",
    "    elif 'home' in x:\n",
    "        return 'Home'\n",
    "    elif 'education' in x:\n",
    "        return 'Education'\n",
    "    elif 'cloud' in x:\n",
    "        return 'Cloud'\n",
    "    else:\n",
    "        return x"
   ]
  },
  {
   "cell_type": "code",
   "execution_count": null,
   "metadata": {
    "_uuid": "e62be3517da71aea151be8f4e3e0ddd2cfa971c2"
   },
   "outputs": [],
   "source": [
    "train['Census_OSEdition'] = train['Census_OSEdition'].astype(str)\n",
    "test['Census_OSEdition'] = test['Census_OSEdition'].astype(str)\n",
    "train['Census_OSEdition'] = train['Census_OSEdition'].apply(rename_edition)\n",
    "test['Census_OSEdition'] = test['Census_OSEdition'].apply(rename_edition)\n",
    "train['Census_OSEdition'] = train['Census_OSEdition'].astype('category')\n",
    "test['Census_OSEdition'] = test['Census_OSEdition'].astype('category')"
   ]
  },
  {
   "cell_type": "code",
   "execution_count": null,
   "metadata": {
    "_uuid": "63b54b387ec34b83a6494622f7e0e036baa58271"
   },
   "outputs": [],
   "source": [
    "plot_categorical_feature('Census_OSEdition', True, by_touch=True)"
   ]
  },
  {
   "cell_type": "markdown",
   "metadata": {
    "_uuid": "f2ceb5503736dcfd906a5c2bf92f197874d80f70"
   },
   "source": [
    "### Census_OSSkuName\n",
    "Almost the same as previous variable"
   ]
  },
  {
   "cell_type": "code",
   "execution_count": null,
   "metadata": {
    "_uuid": "94869b267bad800d28eaba8c2a32818d6d88b4e9"
   },
   "outputs": [],
   "source": [
    "train['Census_OSSkuName'] = train['Census_OSSkuName'].astype(str)\n",
    "test['Census_OSSkuName'] = test['Census_OSSkuName'].astype(str)\n",
    "train['Census_OSSkuName'] = train['Census_OSSkuName'].apply(rename_edition)\n",
    "test['Census_OSSkuName'] = test['Census_OSSkuName'].apply(rename_edition)\n",
    "train['Census_OSSkuName'] = train['Census_OSSkuName'].astype('category')\n",
    "test['Census_OSSkuName'] = test['Census_OSSkuName'].astype('category')"
   ]
  },
  {
   "cell_type": "code",
   "execution_count": null,
   "metadata": {
    "_uuid": "c217a75dec714b63f6cd2a31125d52f476f6d902"
   },
   "outputs": [],
   "source": [
    "plot_categorical_feature('Census_OSSkuName', True, by_touch=True)"
   ]
  },
  {
   "cell_type": "markdown",
   "metadata": {
    "_uuid": "5a60346a6176d5796b0b9d0642672ee9200f96a3"
   },
   "source": [
    "### Census_OSInstallLanguageIdentifier\n",
    "Sadly we don't know what mean these numbers."
   ]
  },
  {
   "cell_type": "code",
   "execution_count": null,
   "metadata": {
    "_uuid": "08099fc2ad912bcad776f57f36f5a8322b97e0da"
   },
   "outputs": [],
   "source": [
    "plot_categorical_feature('Census_OSInstallLanguageIdentifier', True)"
   ]
  },
  {
   "cell_type": "code",
   "execution_count": null,
   "metadata": {
    "_uuid": "e585da1bc2dd5172aac2513ea31b4afd55b8d932"
   },
   "outputs": [],
   "source": [
    "train['Census_OSInstallLanguageIdentifier'] = train['Census_OSInstallLanguageIdentifier'].astype('category')\n",
    "test['Census_OSInstallLanguageIdentifier'] = test['Census_OSInstallLanguageIdentifier'].astype('category')"
   ]
  },
  {
   "cell_type": "markdown",
   "metadata": {
    "_uuid": "16e72639b4c7c3f0bc2b516e89b01c70ddad2baa"
   },
   "source": [
    "### Census_OSUILocaleIdentifier"
   ]
  },
  {
   "cell_type": "code",
   "execution_count": null,
   "metadata": {
    "_uuid": "41307fd1cbc5958625a8aa528f47357941f7b10f"
   },
   "outputs": [],
   "source": [
    "plot_categorical_feature('Census_OSUILocaleIdentifier', True)"
   ]
  },
  {
   "cell_type": "code",
   "execution_count": null,
   "metadata": {
    "_uuid": "85ec564c9e3839d8ec9d89a748416c02eae7052e"
   },
   "outputs": [],
   "source": [
    "train['Census_OSUILocaleIdentifier'] = train['Census_OSUILocaleIdentifier'].astype('category')\n",
    "test['Census_OSUILocaleIdentifier'] = test['Census_OSUILocaleIdentifier'].astype('category')"
   ]
  },
  {
   "cell_type": "markdown",
   "metadata": {
    "_uuid": "1a782c75db81cd46d8fe68f25a42b1cfdf7ff7f7"
   },
   "source": [
    "### Census_OSUILocaleIdentifier"
   ]
  },
  {
   "cell_type": "code",
   "execution_count": null,
   "metadata": {
    "_uuid": "264c6a77762f12465368874a69e040097d42e8e6"
   },
   "outputs": [],
   "source": [
    "plot_categorical_feature('Census_OSUILocaleIdentifier', True)"
   ]
  },
  {
   "cell_type": "markdown",
   "metadata": {
    "_uuid": "50c4e621572120b2b15481d2374bfb33696ae0c5"
   },
   "source": [
    "### OsSuite"
   ]
  },
  {
   "cell_type": "code",
   "execution_count": null,
   "metadata": {
    "_uuid": "cf623e5b2b206ad090c4501408ccac8d5e14ffa1"
   },
   "outputs": [],
   "source": [
    "plot_categorical_feature('OsSuite', True)"
   ]
  },
  {
   "cell_type": "code",
   "execution_count": null,
   "metadata": {
    "_uuid": "d6baefa63eadbe4a1bab03032a316030b2ebbe1b"
   },
   "outputs": [],
   "source": [
    "train['OsSuite'] = train['OsSuite'].astype('category')\n",
    "test['OsSuite'] = test['OsSuite'].astype('category')"
   ]
  },
  {
   "cell_type": "markdown",
   "metadata": {
    "_uuid": "2146fda9560a3baae156a6c21b781bf76de438e7"
   },
   "source": [
    "### Wdft_RegionIdentifier"
   ]
  },
  {
   "cell_type": "code",
   "execution_count": null,
   "metadata": {
    "_uuid": "564aa98e4cd1219bfeedaa193af54efbc020cf66"
   },
   "outputs": [],
   "source": [
    "plot_categorical_feature('Wdft_RegionIdentifier', True)"
   ]
  },
  {
   "cell_type": "code",
   "execution_count": null,
   "metadata": {
    "_uuid": "f5d2080bccae8290be543f08194f4dbfd7315f29"
   },
   "outputs": [],
   "source": [
    "train['Wdft_RegionIdentifier'] = train['Wdft_RegionIdentifier'].astype('category')\n",
    "test['Wdft_RegionIdentifier'] = test['Wdft_RegionIdentifier'].astype('category')"
   ]
  },
  {
   "cell_type": "markdown",
   "metadata": {
    "_uuid": "9c48c198de84660bbc824025ff9334859fb714cf"
   },
   "source": [
    "### SkuEdition"
   ]
  },
  {
   "cell_type": "code",
   "execution_count": null,
   "metadata": {
    "_uuid": "6791a1d96df24f3851c10cd641d74715df1d127f"
   },
   "outputs": [],
   "source": [
    "train['SkuEdition'].value_counts(dropna=False, normalize=True)"
   ]
  },
  {
   "cell_type": "markdown",
   "metadata": {
    "_uuid": "19883aa3ae39defdd6e9bd2f956b19372caa7950"
   },
   "source": [
    "Home and Pro editions together give 97.9%+ of all values. Condidering that other categories are for Enterprise mostly, I combine them with Pro."
   ]
  },
  {
   "cell_type": "code",
   "execution_count": null,
   "metadata": {
    "_uuid": "e7834f78da3cd248abf682b8dadc99a279570410"
   },
   "outputs": [],
   "source": [
    "# train.loc[train['SkuEdition'] != 'Home', 'SkuEdition'] = 'Pro'\n",
    "# test.loc[test['SkuEdition'] != 'Home', 'SkuEdition'] = 'Pro'\n",
    "\n",
    "# train['SkuEdition'] = train['SkuEdition'].cat.remove_unused_categories()\n",
    "# test['SkuEdition'] = test['SkuEdition'].cat.remove_unused_categories()"
   ]
  },
  {
   "cell_type": "code",
   "execution_count": null,
   "metadata": {
    "_uuid": "c013be9dcc8b75c4bec742fdeab24d0c4148fa51"
   },
   "outputs": [],
   "source": [
    "pd.crosstab(train['SkuEdition'], train['Census_OSEdition'], normalize='columns')"
   ]
  },
  {
   "cell_type": "markdown",
   "metadata": {
    "_uuid": "1bf4e2154ebc5eea75908acc632fa63668ded470"
   },
   "source": [
    "It seems that Home Sku edition corresponds to Core OS Edition, and Pro Sku edition corresponts to all other OS editions."
   ]
  },
  {
   "cell_type": "markdown",
   "metadata": {
    "_uuid": "60f69dcfbb2349a0735da19f1981863244182b8e"
   },
   "source": [
    "### SmartScreen"
   ]
  },
  {
   "cell_type": "code",
   "execution_count": null,
   "metadata": {
    "_uuid": "61c1aeb6ea5481bf03e0e38ab282121acfb8091a"
   },
   "outputs": [],
   "source": [
    "train['SmartScreen'].value_counts(dropna=False, normalize=True).cumsum()"
   ]
  },
  {
   "cell_type": "markdown",
   "metadata": {
    "_uuid": "17c8d92d8997703e9674a114b7e182d630eb2cfd"
   },
   "source": [
    "As per description: If the value exists but is blank, the value \"ExistsNotSet\" is sent in telemetry.\n",
    "So missing values and ExistsNotSet are in fact the same. This category + RequireAdmin + Off + Warn are 99.3% of all values. I'll combine all other values into Prompt."
   ]
  },
  {
   "cell_type": "code",
   "execution_count": null,
   "metadata": {
    "_uuid": "11aeff4b28019f824e49b3ac2b57c16fbe316e2a"
   },
   "outputs": [],
   "source": [
    "# train.loc[train['SmartScreen'].isnull(), 'SmartScreen'] = 'ExistsNotSet'\n",
    "# test.loc[test['SmartScreen'].isnull(), 'SmartScreen'] = 'ExistsNotSet'\n",
    "# train.loc[train['SmartScreen'].isin(['RequireAdmin', 'ExistsNotSet', 'Off', 'Warn']) == False, 'SmartScreen'] = 'Prompt'\n",
    "# test.loc[test['SmartScreen'].isin(['RequireAdmin', 'ExistsNotSet', 'Off', 'Warn']) == False, 'SmartScreen'] = 'Prompt'\n",
    "\n",
    "# train['SmartScreen'] = train['SmartScreen'].cat.remove_unused_categories()\n",
    "# test['SmartScreen'] = test['SmartScreen'].cat.remove_unused_categories()"
   ]
  },
  {
   "cell_type": "code",
   "execution_count": null,
   "metadata": {
    "_uuid": "7bd86f0102a8e40bb0f9f9e298c105399ec4f419"
   },
   "outputs": [],
   "source": [
    "sns.set(rc={'figure.figsize':(15, 8)})\n",
    "sns.countplot(x=\"SmartScreen\", hue=\"HasDetections\",  palette=\"PRGn\", data=train)\n",
    "plt.title(\"SmartScreen counts\")\n",
    "plt.xticks(rotation='vertical')\n",
    "plt.show()"
   ]
  },
  {
   "cell_type": "markdown",
   "metadata": {
    "_uuid": "3d02177c4c115be3538932fddb020a0bf6d16ed4"
   },
   "source": [
    "### Census_MDC2FormFactor"
   ]
  },
  {
   "cell_type": "code",
   "execution_count": null,
   "metadata": {
    "_uuid": "0c5cfc84d5d455260b8d6ac9cc503d150a51cf66"
   },
   "outputs": [],
   "source": [
    "train['Census_MDC2FormFactor'].value_counts(dropna=False, normalize=True).cumsum()"
   ]
  },
  {
   "cell_type": "code",
   "execution_count": null,
   "metadata": {
    "_uuid": "753152537a8b0d760b694b5a951d78822ee00f21"
   },
   "outputs": [],
   "source": [
    "# top_cats = list(train['Census_MDC2FormFactor'].value_counts().index[:5])\n",
    "# train.loc[train['Census_MDC2FormFactor'].isin(top_cats) == False, 'Census_MDC2FormFactor'] = 'PCOther'\n",
    "# test.loc[test['Census_MDC2FormFactor'].isin(top_cats) == False, 'Census_MDC2FormFactor'] = 'PCOther'\n",
    "\n",
    "# train['Census_MDC2FormFactor'] = train['Census_MDC2FormFactor'].cat.remove_unused_categories()\n",
    "# test['Census_MDC2FormFactor'] = test['Census_MDC2FormFactor'].cat.remove_unused_categories()"
   ]
  },
  {
   "cell_type": "code",
   "execution_count": null,
   "metadata": {
    "_uuid": "5ee720c930ef907a93edff3dffb962a24c6edf69"
   },
   "outputs": [],
   "source": [
    "plot_categorical_feature('Census_MDC2FormFactor', True)"
   ]
  },
  {
   "cell_type": "code",
   "execution_count": null,
   "metadata": {
    "_uuid": "ac49ae3b7e860ae1bd80fe4eafa41f5f7f9e4f0b"
   },
   "outputs": [],
   "source": [
    "sns.catplot(x=\"Census_PrimaryDiskTypeName\", hue=\"HasDetections\", col=\"Census_MDC2FormFactor\",\n",
    "                data=train, kind=\"count\",col_wrap=3);"
   ]
  },
  {
   "cell_type": "markdown",
   "metadata": {
    "_uuid": "176c990f70dfac85258797f208360d3946bb5203"
   },
   "source": [
    "It is nice to see that these two variables interact reasonably.\n",
    "Detachable devices usually have SSD, desktop PC have HDD and SDD and Notebooks usually have HDD."
   ]
  },
  {
   "cell_type": "code",
   "execution_count": null,
   "metadata": {
    "_uuid": "eefcb0c456852e26f88bc8409d5fc7387dccd84b"
   },
   "outputs": [],
   "source": [
    "train['Census_PrimaryDiskTypeName'].value_counts(dropna=False, normalize=True).cumsum()"
   ]
  },
  {
   "cell_type": "code",
   "execution_count": null,
   "metadata": {
    "_uuid": "e8a0e61c72d33a13e33e4d50dc10e686ec18f35e"
   },
   "outputs": [],
   "source": [
    "# train.loc[train['Census_PrimaryDiskTypeName'].isin(['HDD', 'SSD']) == False, 'Census_PrimaryDiskTypeName'] = 'UNKNOWN'\n",
    "# test.loc[test['Census_PrimaryDiskTypeName'].isin(['HDD', 'SSD']) == False, 'Census_PrimaryDiskTypeName'] = 'UNKNOWN'\n",
    "\n",
    "# train['Census_PrimaryDiskTypeName'] = train['Census_PrimaryDiskTypeName'].cat.remove_unused_categories()\n",
    "# test['Census_PrimaryDiskTypeName'] = test['Census_PrimaryDiskTypeName'].cat.remove_unused_categories()"
   ]
  },
  {
   "cell_type": "markdown",
   "metadata": {
    "_uuid": "989f242c49c989b2d6ac5f5143db0a3763977dff"
   },
   "source": [
    "### Census_ProcessorManufacturerIdentifier"
   ]
  },
  {
   "cell_type": "code",
   "execution_count": null,
   "metadata": {
    "_uuid": "1c5c0a2feb6243be0bb9e4a66e9884ff7495c328"
   },
   "outputs": [],
   "source": [
    "train['Census_ProcessorManufacturerIdentifier'].value_counts(dropna=False, normalize=True).cumsum()"
   ]
  },
  {
   "cell_type": "code",
   "execution_count": null,
   "metadata": {
    "_uuid": "2b11a7b98c90e5e1bcc0f123083477d722f845fe"
   },
   "outputs": [],
   "source": [
    "# train.loc[train['Census_ProcessorManufacturerIdentifier'].isin([5.0, 1.0]) == False, 'Census_ProcessorManufacturerIdentifier'] = 0.0\n",
    "# test.loc[test['Census_ProcessorManufacturerIdentifier'].isin([5.0, 1.0]) == False, 'Census_ProcessorManufacturerIdentifier'] = 0.0\n",
    "\n",
    "# train['Census_ProcessorManufacturerIdentifier'] = train['Census_ProcessorManufacturerIdentifier'].astype('category')\n",
    "# test['Census_ProcessorManufacturerIdentifier'] = test['Census_ProcessorManufacturerIdentifier'].astype('category')"
   ]
  },
  {
   "cell_type": "code",
   "execution_count": null,
   "metadata": {
    "_uuid": "a0e5e10c869ddb44cf5336bf8fad70e75b9927a5"
   },
   "outputs": [],
   "source": [
    "plot_categorical_feature('Census_ProcessorManufacturerIdentifier', True)"
   ]
  },
  {
   "cell_type": "markdown",
   "metadata": {
    "_uuid": "d7efe14d62110ac3cafa38e531d24f61ac4e4fa3"
   },
   "source": [
    "Once again anonymized variable."
   ]
  },
  {
   "cell_type": "markdown",
   "metadata": {
    "_uuid": "617ba168677ab496e1d0bc56c794237714ac0242"
   },
   "source": [
    "### Census_PowerPlatformRoleName"
   ]
  },
  {
   "cell_type": "code",
   "execution_count": null,
   "metadata": {
    "_uuid": "9db88570785a2a548e45333017e648164261e97e"
   },
   "outputs": [],
   "source": [
    "train['Census_PowerPlatformRoleName'].value_counts(dropna=False, normalize=True).cumsum()"
   ]
  },
  {
   "cell_type": "code",
   "execution_count": null,
   "metadata": {
    "_uuid": "06d1139c2cadfe11d850177da52a024a113fd3d8"
   },
   "outputs": [],
   "source": [
    "# train.loc[train['Census_PowerPlatformRoleName'].isin(['Mobile', 'Desktop', 'Slate']) == False, 'Census_PowerPlatformRoleName'] = 'UNKNOWN'\n",
    "# test.loc[test['Census_PowerPlatformRoleName'].isin(['Mobile', 'Desktop', 'Slate']) == False, 'Census_PowerPlatformRoleName'] = 'UNKNOWN'\n",
    "\n",
    "# train['Census_PowerPlatformRoleName'] = train['Census_PowerPlatformRoleName'].cat.remove_unused_categories()\n",
    "# test['Census_PowerPlatformRoleName'] = test['Census_PowerPlatformRoleName'].cat.remove_unused_categories()"
   ]
  },
  {
   "cell_type": "code",
   "execution_count": null,
   "metadata": {
    "_uuid": "c565772adcbebaaef7add7e7b97edcee81f0f9e5"
   },
   "outputs": [],
   "source": [
    "plot_categorical_feature('Census_PowerPlatformRoleName', True)"
   ]
  },
  {
   "cell_type": "markdown",
   "metadata": {
    "_uuid": "f875ec60c62e6633d670819d9ee4edd48abb951c"
   },
   "source": [
    "For some reason slates have quite a low rate of detections. Maybe no hackers are interested in them? :)"
   ]
  },
  {
   "cell_type": "markdown",
   "metadata": {
    "_uuid": "5d472bc3b969bf7bde334f706c51402eda249a9a"
   },
   "source": [
    "### Census_OSInstallTypeName"
   ]
  },
  {
   "cell_type": "code",
   "execution_count": null,
   "metadata": {
    "_uuid": "51799905423edc2eeb8586fa0bc8bf1fe38d63fe"
   },
   "outputs": [],
   "source": [
    "plot_categorical_feature('Census_OSInstallTypeName', True)"
   ]
  },
  {
   "cell_type": "code",
   "execution_count": null,
   "metadata": {
    "_uuid": "6d8e91616d41f48394ea667fc42a8c65fc342a2b"
   },
   "outputs": [],
   "source": [
    "# top_cats = list(train['Census_OSWUAutoUpdateOptionsName'].value_counts().index[:3])\n",
    "# train.loc[train['Census_OSWUAutoUpdateOptionsName'].isin(top_cats) == False, 'Census_OSWUAutoUpdateOptionsName'] = 'Off'\n",
    "# test.loc[test['Census_OSWUAutoUpdateOptionsName'].isin(top_cats) == False, 'Census_OSWUAutoUpdateOptionsName'] = 'Off'\n",
    "\n",
    "# train['Census_OSWUAutoUpdateOptionsName'] = train['Census_OSWUAutoUpdateOptionsName'].cat.remove_unused_categories()\n",
    "# test['Census_OSWUAutoUpdateOptionsName'] = test['Census_OSWUAutoUpdateOptionsName'].cat.remove_unused_categories()"
   ]
  },
  {
   "cell_type": "code",
   "execution_count": null,
   "metadata": {
    "_uuid": "d7e3a86f36191dcb22f2ee0f6cc6cb8ae3fa609b"
   },
   "outputs": [],
   "source": [
    "# train.loc[train['Census_GenuineStateName'] == 'UNKNOWN', 'Census_GenuineStateName'] = 'OFFLINE'\n",
    "# test.loc[test['Census_GenuineStateName'] == 'UNKNOWN', 'Census_GenuineStateName'] = 'OFFLINE'\n",
    "\n",
    "# train['Census_GenuineStateName'] = train['Census_GenuineStateName'].cat.remove_unused_categories()\n",
    "# test['Census_GenuineStateName'] = test['Census_GenuineStateName'].cat.remove_unused_categories()"
   ]
  },
  {
   "cell_type": "code",
   "execution_count": null,
   "metadata": {
    "_uuid": "673ed8144093f6057f504ad22c82e7943be1fc57"
   },
   "outputs": [],
   "source": [
    "# train.loc[train['Census_ActivationChannel'].isin(['Retail', 'OEM:DM']) == False, 'Census_ActivationChannel'] = 'Volume:GVLK'\n",
    "# test.loc[test['Census_ActivationChannel'].isin(['Retail', 'OEM:DM']) == False, 'Census_ActivationChannel'] = 'Volume:GVLK'\n",
    "\n",
    "# train['Census_ActivationChannel'] = train['Census_ActivationChannel'].cat.remove_unused_categories()\n",
    "# test['Census_ActivationChannel'] = test['Census_ActivationChannel'].cat.remove_unused_categories()"
   ]
  },
  {
   "cell_type": "markdown",
   "metadata": {
    "_uuid": "0031a2e687c3359cc3d8daad71052c6d434749d5"
   },
   "source": [
    "## Feature engineering and transformation"
   ]
  },
  {
   "cell_type": "code",
   "execution_count": null,
   "metadata": {
    "_uuid": "87a88bb2656e21d8f7aa4338da2932c612a0a96c",
    "scrolled": true
   },
   "outputs": [],
   "source": [
    "train.head()"
   ]
  },
  {
   "cell_type": "code",
   "execution_count": null,
   "metadata": {
    "_uuid": "929ff493993727b75ba409d3c975043ee64af043"
   },
   "outputs": [],
   "source": [
    "train['OsBuildLab'] = train['OsBuildLab'].cat.add_categories(['0.0.0.0.0-0'])\n",
    "train['OsBuildLab'] = train['OsBuildLab'].fillna('0.0.0.0.0-0')\n",
    "test['OsBuildLab'] = test['OsBuildLab'].cat.add_categories(['0.0.0.0.0-0'])\n",
    "test['OsBuildLab'] = test['OsBuildLab'].fillna('0.0.0.0.0-0')"
   ]
  },
  {
   "cell_type": "code",
   "execution_count": null,
   "metadata": {
    "_uuid": "b0ab5cf44a087d69aafdff03f9d40cd52115e31d"
   },
   "outputs": [],
   "source": [
    "def fe(df):\n",
    "    df['EngineVersion_2'] = df['EngineVersion'].apply(lambda x: x.split('.')[2]).astype('category')\n",
    "    df['EngineVersion_3'] = df['EngineVersion'].apply(lambda x: x.split('.')[3]).astype('category')\n",
    "\n",
    "    df['AppVersion_1'] = df['AppVersion'].apply(lambda x: x.split('.')[1]).astype('category')\n",
    "    df['AppVersion_2'] = df['AppVersion'].apply(lambda x: x.split('.')[2]).astype('category')\n",
    "    df['AppVersion_3'] = df['AppVersion'].apply(lambda x: x.split('.')[3]).astype('category')\n",
    "\n",
    "    df['AvSigVersion_0'] = df['AvSigVersion'].apply(lambda x: x.split('.')[0]).astype('category')\n",
    "    df['AvSigVersion_1'] = df['AvSigVersion'].apply(lambda x: x.split('.')[1]).astype('category')\n",
    "    df['AvSigVersion_2'] = df['AvSigVersion'].apply(lambda x: x.split('.')[2]).astype('category')\n",
    "\n",
    "    df['OsBuildLab_0'] = df['OsBuildLab'].apply(lambda x: x.split('.')[0]).astype('category')\n",
    "    df['OsBuildLab_1'] = df['OsBuildLab'].apply(lambda x: x.split('.')[1]).astype('category')\n",
    "    df['OsBuildLab_2'] = df['OsBuildLab'].apply(lambda x: x.split('.')[2]).astype('category')\n",
    "    df['OsBuildLab_3'] = df['OsBuildLab'].apply(lambda x: x.split('.')[3]).astype('category')\n",
    "    # df['OsBuildLab_40'] = df['OsBuildLab'].apply(lambda x: x.split('.')[4].split('-')[0]).astype('category')\n",
    "    # df['OsBuildLab_41'] = df['OsBuildLab'].apply(lambda x: x.split('.')[4].split('-')[1]).astype('category')\n",
    "\n",
    "    df['Census_OSVersion_0'] = df['Census_OSVersion'].apply(lambda x: x.split('.')[0]).astype('category')\n",
    "    df['Census_OSVersion_1'] = df['Census_OSVersion'].apply(lambda x: x.split('.')[1]).astype('category')\n",
    "    df['Census_OSVersion_2'] = df['Census_OSVersion'].apply(lambda x: x.split('.')[2]).astype('category')\n",
    "    df['Census_OSVersion_3'] = df['Census_OSVersion'].apply(lambda x: x.split('.')[3]).astype('category')\n",
    "\n",
    "    # https://www.kaggle.com/adityaecdrid/simple-feature-engineering-xd\n",
    "    df['primary_drive_c_ratio'] = df['Census_SystemVolumeTotalCapacity']/ df['Census_PrimaryDiskTotalCapacity']\n",
    "    df['non_primary_drive_MB'] = df['Census_PrimaryDiskTotalCapacity'] - df['Census_SystemVolumeTotalCapacity']\n",
    "\n",
    "    df['aspect_ratio'] = df['Census_InternalPrimaryDisplayResolutionHorizontal']/ df['Census_InternalPrimaryDisplayResolutionVertical']\n",
    "\n",
    "    df['monitor_dims'] = df['Census_InternalPrimaryDisplayResolutionHorizontal'].astype(str) + '*' + df['Census_InternalPrimaryDisplayResolutionVertical'].astype('str')\n",
    "    df['monitor_dims'] = df['monitor_dims'].astype('category')\n",
    "\n",
    "    df['dpi'] = ((df['Census_InternalPrimaryDisplayResolutionHorizontal']**2 + df['Census_InternalPrimaryDisplayResolutionVertical']**2)**.5)/(df['Census_InternalPrimaryDiagonalDisplaySizeInInches'])\n",
    "\n",
    "    df['dpi_square'] = df['dpi'] ** 2\n",
    "\n",
    "    df['MegaPixels'] = (df['Census_InternalPrimaryDisplayResolutionHorizontal'] * df['Census_InternalPrimaryDisplayResolutionVertical'])/1e6\n",
    "\n",
    "    df['Screen_Area'] = (df['aspect_ratio']* (df['Census_InternalPrimaryDiagonalDisplaySizeInInches']**2))/(df['aspect_ratio']**2 + 1)\n",
    "\n",
    "    df['ram_per_processor'] = df['Census_TotalPhysicalRAM']/ df['Census_ProcessorCoreCount']\n",
    "\n",
    "    df['new_num_0'] = df['Census_InternalPrimaryDiagonalDisplaySizeInInches'] / df['Census_ProcessorCoreCount']\n",
    "\n",
    "    df['new_num_1'] = df['Census_ProcessorCoreCount'] * df['Census_InternalPrimaryDiagonalDisplaySizeInInches']\n",
    "    \n",
    "    df['Census_IsFlightingInternal'] = df['Census_IsFlightingInternal'].fillna(1)\n",
    "    df['Census_ThresholdOptIn'] = df['Census_ThresholdOptIn'].fillna(1)\n",
    "    df['Census_IsWIMBootEnabled'] = df['Census_IsWIMBootEnabled'].fillna(1)\n",
    "    df['Wdft_IsGamer'] = df['Wdft_IsGamer'].fillna(0)\n",
    "    \n",
    "    return df"
   ]
  },
  {
   "cell_type": "code",
   "execution_count": null,
   "metadata": {
    "_uuid": "9f51ffbd25d969ac089e8155eadbee4afb59ace3"
   },
   "outputs": [],
   "source": [
    "train = fe(train)\n",
    "test = fe(test)"
   ]
  },
  {
   "cell_type": "code",
   "execution_count": null,
   "metadata": {
    "_uuid": "760554ddb8d074381d9bfbe249d428fa4f73502f"
   },
   "outputs": [],
   "source": [
    "cat_cols = [col for col in train.columns if col not in ['MachineIdentifier', 'Census_SystemVolumeTotalCapacity', 'HasDetections'] and str(train[col].dtype) == 'category']\n",
    "len(cat_cols)"
   ]
  },
  {
   "cell_type": "code",
   "execution_count": null,
   "metadata": {
    "_kg_hide-input": true,
    "_uuid": "54b60b82f6680eb067544a7dce6a77909c349bfd"
   },
   "outputs": [],
   "source": [
    "more_cat_cols = []\n",
    "add_cat_feats = [\n",
    " 'Census_OSBuildRevision',\n",
    " 'OsBuildLab',\n",
    " 'SmartScreen',\n",
    "'AVProductsInstalled']\n",
    "for col1 in add_cat_feats:\n",
    "    for col2 in add_cat_feats:\n",
    "        if col1 != col2:\n",
    "            train[col1 + '__' + col2] = train[col1].astype(str) + train[col2].astype(str)\n",
    "            train[col1 + '__' + col2] = train[col1 + '__' + col2].astype('category')\n",
    "            \n",
    "            test[col1 + '__' + col2] = test[col1].astype(str) + test[col2].astype(str)\n",
    "            test[col1 + '__' + col2] = test[col1 + '__' + col2].astype('category')\n",
    "            more_cat_cols.append(col1 + '__' + col2)\n",
    "            \n",
    "cat_cols = cat_cols + more_cat_cols"
   ]
  },
  {
   "cell_type": "code",
   "execution_count": null,
   "metadata": {
    "_uuid": "11fb825b7e73c8d674544697dd8ba7e55145bb8c"
   },
   "outputs": [],
   "source": [
    "to_encode = []\n",
    "for col in cat_cols:\n",
    "    if train[col].nunique() > 1000:\n",
    "        print(col, train[col].nunique())\n",
    "        to_encode.append(col)"
   ]
  },
  {
   "cell_type": "markdown",
   "metadata": {
    "_uuid": "613a9f1e88c85daf2e68a15ea59663bedf8a4f32"
   },
   "source": [
    "### Frequency encoding\n",
    "\n",
    "From this kernel:  https://www.kaggle.com/fabiendaniel/detecting-malwares-with-lgbm\n",
    "\n",
    "I do frequency and label encoding on the full train dataset, because I think I'll get more correct values this way."
   ]
  },
  {
   "cell_type": "code",
   "execution_count": null,
   "metadata": {
    "_uuid": "55b7e64e717555b2e14103a85a30e2ee9f7a1d32"
   },
   "outputs": [],
   "source": [
    "train = reduce_mem_usage(train)\n",
    "test = reduce_mem_usage(test)\n",
    "gc.collect()"
   ]
  },
  {
   "cell_type": "code",
   "execution_count": null,
   "metadata": {
    "_kg_hide-input": true,
    "_uuid": "4dbb7a07fe5ce21fab1cc863c5430a4169bdbd7f"
   },
   "outputs": [],
   "source": [
    "def frequency_encoding(variable):\n",
    "    t = pd.concat([train[variable], test[variable]]).value_counts().reset_index()\n",
    "    t = t.reset_index()\n",
    "    t.loc[t[variable] == 1, 'level_0'] = np.nan\n",
    "    t.set_index('index', inplace=True)\n",
    "    max_label = t['level_0'].max() + 1\n",
    "    t.fillna(max_label, inplace=True)\n",
    "    return t.to_dict()['level_0']"
   ]
  },
  {
   "cell_type": "code",
   "execution_count": null,
   "metadata": {
    "_uuid": "1c125b8c76922a109d85676252a48baf459b4391",
    "scrolled": true
   },
   "outputs": [],
   "source": [
    "for col in tqdm_notebook(to_encode):\n",
    "    freq_enc_dict = frequency_encoding(col)\n",
    "    train[col] = train[col].map(lambda x: freq_enc_dict.get(x, np.nan))\n",
    "    test[col] = test[col].map(lambda x: freq_enc_dict.get(x, np.nan))\n",
    "    cat_cols.remove(col)"
   ]
  },
  {
   "cell_type": "markdown",
   "metadata": {
    "_uuid": "08794f88aa1c9e478c2853fbcf2a699955d333d1"
   },
   "source": [
    "### Label Encoding"
   ]
  },
  {
   "cell_type": "code",
   "execution_count": null,
   "metadata": {
    "_uuid": "317a913227f877ae5e7463beb100565dfd4597fc",
    "scrolled": true
   },
   "outputs": [],
   "source": [
    "%%time\n",
    "indexer = {}\n",
    "for col in cat_cols:\n",
    "    # print(col)\n",
    "    _, indexer[col] = pd.factorize(train[col].astype(str), sort=True)\n",
    "    \n",
    "for col in tqdm_notebook(cat_cols):\n",
    "    # print(col)\n",
    "    train[col] = indexer[col].get_indexer(train[col].astype(str))\n",
    "    test[col] = indexer[col].get_indexer(test[col].astype(str))\n",
    "    \n",
    "    train = reduce_mem_usage(train, verbose=False)\n",
    "    test = reduce_mem_usage(test, verbose=False)"
   ]
  },
  {
   "cell_type": "code",
   "execution_count": null,
   "metadata": {
    "_uuid": "165774a25c033658faec35697a5e45e4a7505393"
   },
   "outputs": [],
   "source": [
    "del indexer"
   ]
  },
  {
   "cell_type": "code",
   "execution_count": null,
   "metadata": {
    "_uuid": "fb700c15e5eeff5d9b7842d246552ab1e1bd27ba"
   },
   "outputs": [],
   "source": [
    "train.head()"
   ]
  },
  {
   "cell_type": "markdown",
   "metadata": {
    "_uuid": "3c974533eecb12de33c5ab8e83257c4ce2582ca4"
   },
   "source": [
    "## Idea of training on all data\n",
    "Let's try training model on three subsets of train data separately and blend the predictions."
   ]
  },
  {
   "cell_type": "code",
   "execution_count": null,
   "metadata": {
    "_uuid": "44aa875be4159b9b0fdf5817a81e469f4c4d2a83",
    "scrolled": true
   },
   "outputs": [],
   "source": [
    "y = train['HasDetections']\n",
    "train = train.drop(['HasDetections', 'MachineIdentifier'], axis=1)\n",
    "test = test.drop(['MachineIdentifier'], axis=1)\n",
    "gc.collect()\n",
    "train.sort_values('AvSigVersion')\n",
    "train1 = train[:4000000]\n",
    "train = train[4000000:8000000]\n",
    "\n",
    "y1 = y[:4000000]\n",
    "y = y[4000000:8000000]"
   ]
  },
  {
   "cell_type": "markdown",
   "metadata": {
    "_uuid": "5d55153ea6421b0fac3cc791237330f84f5160d6"
   },
   "source": [
    "### Modelling\n",
    "\n",
    "Added possibility to do rank averaging."
   ]
  },
  {
   "cell_type": "code",
   "execution_count": null,
   "metadata": {
    "_uuid": "ed5bc3ceecad8e4fdfb99d5124b80177ed7ed222"
   },
   "outputs": [],
   "source": [
    "n_fold = 5\n",
    "folds = StratifiedKFold(n_splits=n_fold, shuffle=True, random_state=15)\n",
    "# folds = TimeSeriesSplit(n_splits=5)"
   ]
  },
  {
   "cell_type": "code",
   "execution_count": null,
   "metadata": {
    "_kg_hide-input": true,
    "_uuid": "7f092d9b5b35c4669b05a05da281cc2f4bdc43ae"
   },
   "outputs": [],
   "source": [
    "from numba import jit\n",
    "# fast roc_auc computation: https://www.kaggle.com/c/microsoft-malware-prediction/discussion/76013\n",
    "@jit\n",
    "def fast_auc(y_true, y_prob):\n",
    "    y_true = np.asarray(y_true)\n",
    "    y_true = y_true[np.argsort(y_prob)]\n",
    "    nfalse = 0\n",
    "    auc = 0\n",
    "    n = len(y_true)\n",
    "    for i in range(n):\n",
    "        y_i = y_true[i]\n",
    "        nfalse += (1 - y_i)\n",
    "        auc += y_i * nfalse\n",
    "    auc /= (nfalse * (n - nfalse))\n",
    "    return auc\n",
    "\n",
    "def eval_auc(preds, dtrain):\n",
    "    labels = dtrain.get_label()\n",
    "    return 'auc', fast_auc(labels, preds), True\n",
    "\n",
    "# idea from this kernel: https://www.kaggle.com/fabiendaniel/detecting-malwares-with-lgbm\n",
    "def predict_chunk(model, test):\n",
    "    initial_idx = 0\n",
    "    chunk_size = 1000000\n",
    "    current_pred = np.zeros(len(test))\n",
    "    while initial_idx < test.shape[0]:\n",
    "        final_idx = min(initial_idx + chunk_size, test.shape[0])\n",
    "        idx = range(initial_idx, final_idx)\n",
    "        current_pred[idx] = model.predict(test.iloc[idx], num_iteration=model.best_iteration)\n",
    "        initial_idx = final_idx\n",
    "    #predictions += current_pred / min(folds.n_splits, max_iter)\n",
    "    return current_pred\n",
    "\n",
    "\n",
    "def train_model(X=train, X_test=test, y=y, params=None, folds=folds, model_type='lgb', plot_feature_importance=False, averaging='usual', make_oof=False):\n",
    "    result_dict = {}\n",
    "    if make_oof:\n",
    "        oof = np.zeros(len(X))\n",
    "    prediction = np.zeros(len(X_test))\n",
    "    scores = []\n",
    "    feature_importance = pd.DataFrame()\n",
    "    for fold_n, (train_index, valid_index) in enumerate(folds.split(X, y)):\n",
    "        gc.collect()\n",
    "        print('Fold', fold_n + 1, 'started at', time.ctime())\n",
    "        X_train, X_valid = X.iloc[train_index], X.iloc[valid_index]\n",
    "        y_train, y_valid = y.iloc[train_index], y.iloc[valid_index]\n",
    "        \n",
    "        \n",
    "        if model_type == 'lgb':\n",
    "            train_data = lgb.Dataset(X_train, label=y_train, categorical_feature = cat_cols)\n",
    "            valid_data = lgb.Dataset(X_valid, label=y_valid, categorical_feature = cat_cols)\n",
    "            \n",
    "            model = lgb.train(params,\n",
    "                    train_data,\n",
    "                    num_boost_round=2000,\n",
    "                    valid_sets = [train_data, valid_data],\n",
    "                    verbose_eval=500,\n",
    "                    early_stopping_rounds = 200,\n",
    "                    feval=eval_auc)\n",
    "\n",
    "            del train_data, valid_data\n",
    "            \n",
    "            y_pred_valid = model.predict(X_valid, num_iteration=model.best_iteration)\n",
    "            del X_valid\n",
    "            gc.collect()\n",
    "            # print('predicting on test')\n",
    "            # y_pred = model.predict(X_test, num_iteration=model.best_iteration)\n",
    "            y_pred = predict_chunk(model, X_test)\n",
    "            # print('predicted')\n",
    "            \n",
    "        if model_type == 'xgb':\n",
    "            train_data = xgb.DMatrix(data=X_train, label=y_train)\n",
    "            valid_data = xgb.DMatrix(data=X_valid, label=y_valid)\n",
    "\n",
    "            watchlist = [(train_data, 'train'), (valid_data, 'valid_data')]\n",
    "            model = xgb.train(dtrain=train_data, num_boost_round=20000, evals=watchlist, early_stopping_rounds=200, verbose_eval=500, params=params)\n",
    "            y_pred_valid = model.predict(xgb.DMatrix(X_valid), ntree_limit=model.best_ntree_limit)\n",
    "            #y_pred = model.predict(xgb.DMatrix(X_test), ntree_limit=model.best_ntree_limit)\n",
    "            y_pred = predict_chunk(model, xgb.DMatrix(X_test))\n",
    "            \n",
    "        if model_type == 'lcv':\n",
    "            model = LogisticRegressionCV(scoring='roc_auc', cv=3)\n",
    "            model.fit(X_train, y_train)\n",
    "\n",
    "            y_pred_valid = model.predict(X_valid)\n",
    "            # y_pred = model.predict(X_test)\n",
    "            y_pred = predict_chunk(model, X_test)\n",
    "            \n",
    "        if model_type == 'cat':\n",
    "            model = CatBoostRegressor(iterations=20000,  eval_metric='AUC', **params)\n",
    "            model.fit(X_train, y_train, eval_set=(X_valid, y_valid), cat_features=[], use_best_model=True, verbose=False)\n",
    "\n",
    "            y_pred_valid = model.predict(X_valid)\n",
    "            # y_pred = model.predict(X_test)\n",
    "            y_pred = predict_chunk(model, X_test)\n",
    "        \n",
    "        if make_oof:\n",
    "            oof[valid_index] = y_pred_valid.reshape(-1,)\n",
    "            \n",
    "        scores.append(fast_auc(y_valid, y_pred_valid))\n",
    "        print('Fold roc_auc:', roc_auc_score(y_valid, y_pred_valid))\n",
    "        print('')\n",
    "        \n",
    "        if averaging == 'usual':\n",
    "            prediction += y_pred\n",
    "        elif averaging == 'rank':\n",
    "            prediction += pd.Series(y_pred).rank().values\n",
    "        \n",
    "        if model_type == 'lgb':\n",
    "            # feature importance\n",
    "            fold_importance = pd.DataFrame()\n",
    "            fold_importance[\"feature\"] = X.columns\n",
    "            fold_importance[\"importance\"] = model.feature_importance()\n",
    "            fold_importance[\"fold\"] = fold_n + 1\n",
    "            feature_importance = pd.concat([feature_importance, fold_importance], axis=0)\n",
    "\n",
    "    prediction /= n_fold\n",
    "    \n",
    "    print('CV mean score: {0:.4f}, std: {1:.4f}.'.format(np.mean(scores), np.std(scores)))\n",
    "    \n",
    "    if model_type == 'lgb':\n",
    "        \n",
    "        if plot_feature_importance:\n",
    "            feature_importance[\"importance\"] /= n_fold\n",
    "            cols = feature_importance[[\"feature\", \"importance\"]].groupby(\"feature\").mean().sort_values(\n",
    "                by=\"importance\", ascending=False)[:50].index\n",
    "\n",
    "            best_features = feature_importance.loc[feature_importance.feature.isin(cols)]\n",
    "            logging.info('Top features')\n",
    "            for f in best_features.sort_values(by=\"importance\", ascending=False)['feature'].values:\n",
    "                logging.info(f)\n",
    "\n",
    "            plt.figure(figsize=(16, 12));\n",
    "            sns.barplot(x=\"importance\", y=\"feature\", data=best_features.sort_values(by=\"importance\", ascending=False));\n",
    "            plt.title('LGB Features (avg over folds)');\n",
    "            \n",
    "            result_dict['feature_importance'] = feature_importance\n",
    "            \n",
    "    result_dict['prediction'] = prediction\n",
    "    if make_oof:\n",
    "        result_dict['oof'] = oof\n",
    "    \n",
    "    return result_dict"
   ]
  },
  {
   "cell_type": "code",
   "execution_count": null,
   "metadata": {
    "_uuid": "b4e1a50a2f760037ffedbdbe0f35cc52e37e5a61"
   },
   "outputs": [],
   "source": [
    "# params from https://www.kaggle.com/fabiendaniel/detecting-malwares-with-lgbm\n",
    "params = {'num_leaves': 256,\n",
    "         'min_data_in_leaf': 42,\n",
    "         'objective': 'binary',\n",
    "         'max_depth': -1,\n",
    "         'learning_rate': 0.05,\n",
    "         \"boosting\": \"gbdt\",\n",
    "         \"feature_fraction\": 0.8,\n",
    "         \"bagging_freq\": 5,\n",
    "         \"bagging_fraction\": 0.8,\n",
    "         \"bagging_seed\": 11,\n",
    "         \"lambda_l1\": 0.15,\n",
    "         \"lambda_l2\": 0.15,\n",
    "         \"random_state\": 42,          \n",
    "         \"verbosity\": -1}"
   ]
  },
  {
   "cell_type": "code",
   "execution_count": null,
   "metadata": {
    "_uuid": "5b2b950929852ded6bfa8abef935eb9deab14166"
   },
   "outputs": [],
   "source": [
    "del stats_df, freq_enc_dict"
   ]
  },
  {
   "cell_type": "code",
   "execution_count": null,
   "metadata": {
    "_uuid": "a3ad3415096aeed64c6fe0952f3a4980797ef934"
   },
   "outputs": [],
   "source": [
    "result_dict1 = train_model(X=train1, X_test=test, y=y1, params=params, model_type='lgb', plot_feature_importance=True, averaging='rank')"
   ]
  },
  {
   "cell_type": "code",
   "execution_count": null,
   "metadata": {
    "_uuid": "5cf07e0e9da62a7045bad9cb2bf9176a9a4cdb8b"
   },
   "outputs": [],
   "source": [
    "result_dict['feature_importance']"
   ]
  },
  {
   "cell_type": "code",
   "execution_count": null,
   "metadata": {
    "_uuid": "a21edfe9b24c7a5907ff8d05720dde4e06ee85ee"
   },
   "outputs": [],
   "source": [
    "del train1, y1"
   ]
  },
  {
   "cell_type": "code",
   "execution_count": null,
   "metadata": {
    "_uuid": "49dd8bb54b47b44cfbb54bad24ca43ab1e4b4f77"
   },
   "outputs": [],
   "source": [
    "# result_dict2 = train_model(X=train2, X_test=test, y=y2, params=params, model_type='lgb', plot_feature_importance=False, averaging='rank')"
   ]
  },
  {
   "cell_type": "code",
   "execution_count": null,
   "metadata": {
    "_uuid": "97ec8881caaeba2de4f377d283f4aaf1e4cfc908"
   },
   "outputs": [],
   "source": [
    "# del train2, y2"
   ]
  },
  {
   "cell_type": "code",
   "execution_count": null,
   "metadata": {
    "_uuid": "41fe40e790c7d89e7090efcb61ca540a3b566146"
   },
   "outputs": [],
   "source": [
    "params = {'num_leaves': 64,\n",
    "         'min_data_in_leaf': 20,\n",
    "         'objective': 'binary',\n",
    "         'max_depth': -1,\n",
    "         'learning_rate': 0.05,\n",
    "         \"boosting\": \"gbdt\",\n",
    "         \"feature_fraction\": 0.9,\n",
    "         \"bagging_freq\": 5,\n",
    "         \"bagging_fraction\": 0.7,\n",
    "         \"bagging_seed\": 11,\n",
    "         \"lambda_l1\": 0.1,\n",
    "         \"lambda_l2\": 0.1,\n",
    "         \"random_state\": 42,          \n",
    "         \"verbosity\": -1}\n",
    "result_dict = train_model(X=train, X_test=test, y=y, params=params, model_type='lgb', plot_feature_importance=False, averaging='rank')"
   ]
  },
  {
   "cell_type": "code",
   "execution_count": null,
   "metadata": {
    "_uuid": "236e5eece3750269e0a7747a96899d2c67f4958a"
   },
   "outputs": [],
   "source": [
    "submission = pd.read_csv('../input/microsoft-malware-prediction/sample_submission.csv')\n",
    "\n",
    "# submission['HasDetections'] = (result_dict['prediction'] + result_dict1['prediction'] + result_dict2['prediction']) / 3\n",
    "submission['HasDetections'] = (result_dict['prediction'] + result_dict1['prediction']) / 2\n",
    "# submission['HasDetections'] = result_dict['prediction']\n",
    "submission.to_csv('lgb_rank.csv', index=False)"
   ]
  },
  {
   "cell_type": "markdown",
   "metadata": {
    "_uuid": "f540389599fe87c66bf2451d05ab45cf1ae79668"
   },
   "source": [
    "### Blending\n",
    "I'll try blending my solution with the output of one of the top kernels.\n",
    "https://www.kaggle.com/roydatascience/new-blend"
   ]
  },
  {
   "cell_type": "code",
   "execution_count": null,
   "metadata": {
    "_uuid": "fad13ac183b42da0bb00c266ea2a2368d415a9ef"
   },
   "outputs": [],
   "source": [
    "import os\n",
    "add_sub = pd.read_csv(\"../input/new-blend/super_blend.csv\")"
   ]
  },
  {
   "cell_type": "code",
   "execution_count": null,
   "metadata": {
    "_uuid": "c6dde0ab808cd494d9e691b55d85d8931d235a97"
   },
   "outputs": [],
   "source": [
    "submission['HasDetections'] = (submission['HasDetections'] + add_sub['HasDetections'].rank().values) / 2\n",
    "submission.to_csv('blend.csv', index=False)"
   ]
  }
 ],
 "metadata": {
  "kernelspec": {
   "display_name": "Python 3",
   "language": "python",
   "name": "python3"
  },
  "language_info": {
   "codemirror_mode": {
    "name": "ipython",
    "version": 3
   },
   "file_extension": ".py",
   "mimetype": "text/x-python",
   "name": "python",
   "nbconvert_exporter": "python",
   "pygments_lexer": "ipython3",
   "version": "3.7.1"
  }
 },
 "nbformat": 4,
 "nbformat_minor": 1
}
